{
 "cells": [
  {
   "cell_type": "code",
   "execution_count": 59,
   "id": "7536f243-c7cf-4a0f-857b-045d4d67bb31",
   "metadata": {},
   "outputs": [
    {
     "data": {
      "text/html": [
       "<link rel=\"stylesheet\" type=\"text/css\" href=\"style.css\">\n"
      ],
      "text/plain": [
       "<IPython.core.display.HTML object>"
      ]
     },
     "metadata": {},
     "output_type": "display_data"
    }
   ],
   "source": [
    "%%HTML\n",
    "<link rel=\"stylesheet\" type=\"text/css\" href=\"style.css\">"
   ]
  },
  {
   "cell_type": "markdown",
   "id": "1211fd77-aed0-4c87-bb4c-38acbe1ed21c",
   "metadata": {},
   "source": [
    "jupyter nbconvert --to slides analisi_hiv_finale.ipynb --no-input --SlidesExporter.reveal_number='c/t' --SlidesExporter.reveal_scroll=True --SlidesExporter.reveal_theme=simple   (ANCORA IN FASE DI LAVORO)"
   ]
  },
  {
   "cell_type": "markdown",
   "id": "3d8dc58e",
   "metadata": {},
   "source": [
    "# HIV - Human Immunodeficiency Virus\n",
    "Danijel Merlo, 173192 <br> <br>\n",
    "Analisi dei dati relativi all'HIV, principali focalizzazioni su:\n",
    "- Persone che vivono con l'HIV\n",
    "- Numero di decessi\n",
    "- Casi nella fascia di età 15–49 anni\n",
    "\n",
    "L'obiettivo è evidenziare le tendenze globali, le differenze regionali e nazionali, e i vari legami."
   ]
  },
  {
   "cell_type": "markdown",
   "id": "9fd98e7e",
   "metadata": {},
   "source": [
    "# Dataset utilizzati:\n",
    "Fonte: Kaggle <br>\n",
    "Link: https://www.kaggle.com/datasets/imdevskp/hiv-aids-dataset/data <br>\n",
    "Autore: Devakumar K.P. <br>\n",
    "\n",
    "1. `no_of_people_living_with_hiv_by_country_clean.csv` (Persone che vivono con HIV)\n",
    "2. `no_of_deaths_by_country_clean.csv` (Decessi per HIV)\n",
    "3. `no_of_cases_adults_15_to_49_by_country_clean.csv` (Casi, età 15–49)\n",
    "\n"
   ]
  },
  {
   "cell_type": "markdown",
   "id": "ec092fcd",
   "metadata": {},
   "source": [
    "## Importazione librerie:"
   ]
  },
  {
   "cell_type": "code",
   "execution_count": 12,
   "id": "09e127e3",
   "metadata": {},
   "outputs": [],
   "source": [
    "\n",
    "# Librerie importate e nominate:\n",
    "import pandas as pd #per l'analisi dei dati\n",
    "import numpy as np #per i calcoli numerici\n",
    "import seaborn as sns #per creare grafici\n",
    "import matplotlib.pyplot as plt #per creare grafici anche 2D\n",
    "import plotly.express as px #per creare grafici interattivi\n",
    "from matplotlib import cm #per le palette di colori\n",
    "import warnings #per i messaggi di avviso\n",
    "warnings.filterwarnings(\"ignore\")\n",
    "\n",
    "plt.style.use('seaborn-v0_8-whitegrid')\n",
    "pd.set_option('display.max_columns', None)\n",
    "\n",
    "# Compatibilità notebook\n",
    "try:\n",
    "    get_ipython().run_line_magic('matplotlib', 'inline')\n",
    "except Exception:\n",
    "    pass\n"
   ]
  },
  {
   "cell_type": "markdown",
   "id": "9f520bc2",
   "metadata": {},
   "source": [
    "## 1) Caricamento e pulizia dei dataset\n",
    "\n",
    "Carichiamo e puliamo le colonne numeriche. Se i file si trovano nella stessa cartella del notebook, i nomi sono quelli indicati."
   ]
  },
  {
   "cell_type": "code",
   "execution_count": 41,
   "id": "57e599b6",
   "metadata": {},
   "outputs": [
    {
     "name": "stdout",
     "output_type": "stream",
     "text": [
      "Caricato no_of_people_living_with_hiv_by_country_clean.csv con 680 righe\n",
      "Caricato no_of_deaths_by_country_clean.csv con 510 righe\n",
      "Caricato no_of_cases_adults_15_to_49_by_country_clean.csv con 680 righe\n",
      "\n",
      "Anteprima hiv_living:\n"
     ]
    },
    {
     "data": {
      "text/html": [
       "<div>\n",
       "<style scoped>\n",
       "    .dataframe tbody tr th:only-of-type {\n",
       "        vertical-align: middle;\n",
       "    }\n",
       "\n",
       "    .dataframe tbody tr th {\n",
       "        vertical-align: top;\n",
       "    }\n",
       "\n",
       "    .dataframe thead th {\n",
       "        text-align: right;\n",
       "    }\n",
       "</style>\n",
       "<table border=\"1\" class=\"dataframe\">\n",
       "  <thead>\n",
       "    <tr style=\"text-align: right;\">\n",
       "      <th></th>\n",
       "      <th>Country</th>\n",
       "      <th>Year</th>\n",
       "      <th>Count</th>\n",
       "      <th>Count_median</th>\n",
       "      <th>Count_min</th>\n",
       "      <th>Count_max</th>\n",
       "      <th>WHO Region</th>\n",
       "    </tr>\n",
       "  </thead>\n",
       "  <tbody>\n",
       "    <tr>\n",
       "      <th>0</th>\n",
       "      <td>Afghanistan</td>\n",
       "      <td>2018</td>\n",
       "      <td>7200.0</td>\n",
       "      <td>7200.0</td>\n",
       "      <td>4100.0</td>\n",
       "      <td>11000.0</td>\n",
       "      <td>Eastern Mediterranean</td>\n",
       "    </tr>\n",
       "    <tr>\n",
       "      <th>1</th>\n",
       "      <td>Albania</td>\n",
       "      <td>2018</td>\n",
       "      <td>NaN</td>\n",
       "      <td>NaN</td>\n",
       "      <td>NaN</td>\n",
       "      <td>NaN</td>\n",
       "      <td>Europe</td>\n",
       "    </tr>\n",
       "    <tr>\n",
       "      <th>2</th>\n",
       "      <td>Algeria</td>\n",
       "      <td>2018</td>\n",
       "      <td>16000.0</td>\n",
       "      <td>16000.0</td>\n",
       "      <td>15000.0</td>\n",
       "      <td>17000.0</td>\n",
       "      <td>Africa</td>\n",
       "    </tr>\n",
       "    <tr>\n",
       "      <th>3</th>\n",
       "      <td>Angola</td>\n",
       "      <td>2018</td>\n",
       "      <td>330000.0</td>\n",
       "      <td>330000.0</td>\n",
       "      <td>290000.0</td>\n",
       "      <td>390000.0</td>\n",
       "      <td>Africa</td>\n",
       "    </tr>\n",
       "    <tr>\n",
       "      <th>4</th>\n",
       "      <td>Argentina</td>\n",
       "      <td>2018</td>\n",
       "      <td>140000.0</td>\n",
       "      <td>140000.0</td>\n",
       "      <td>130000.0</td>\n",
       "      <td>150000.0</td>\n",
       "      <td>Americas</td>\n",
       "    </tr>\n",
       "  </tbody>\n",
       "</table>\n",
       "</div>"
      ],
      "text/plain": [
       "       Country  Year     Count  Count_median  Count_min  Count_max  \\\n",
       "0  Afghanistan  2018    7200.0        7200.0     4100.0    11000.0   \n",
       "1      Albania  2018       NaN           NaN        NaN        NaN   \n",
       "2      Algeria  2018   16000.0       16000.0    15000.0    17000.0   \n",
       "3       Angola  2018  330000.0      330000.0   290000.0   390000.0   \n",
       "4    Argentina  2018  140000.0      140000.0   130000.0   150000.0   \n",
       "\n",
       "              WHO Region  \n",
       "0  Eastern Mediterranean  \n",
       "1                 Europe  \n",
       "2                 Africa  \n",
       "3                 Africa  \n",
       "4               Americas  "
      ]
     },
     "metadata": {},
     "output_type": "display_data"
    },
    {
     "name": "stdout",
     "output_type": "stream",
     "text": [
      "\n",
      "Anteprima hiv_deaths:\n"
     ]
    },
    {
     "data": {
      "text/html": [
       "<div>\n",
       "<style scoped>\n",
       "    .dataframe tbody tr th:only-of-type {\n",
       "        vertical-align: middle;\n",
       "    }\n",
       "\n",
       "    .dataframe tbody tr th {\n",
       "        vertical-align: top;\n",
       "    }\n",
       "\n",
       "    .dataframe thead th {\n",
       "        text-align: right;\n",
       "    }\n",
       "</style>\n",
       "<table border=\"1\" class=\"dataframe\">\n",
       "  <thead>\n",
       "    <tr style=\"text-align: right;\">\n",
       "      <th></th>\n",
       "      <th>Country</th>\n",
       "      <th>Year</th>\n",
       "      <th>Count</th>\n",
       "      <th>Count_median</th>\n",
       "      <th>Count_min</th>\n",
       "      <th>Count_max</th>\n",
       "      <th>WHO Region</th>\n",
       "    </tr>\n",
       "  </thead>\n",
       "  <tbody>\n",
       "    <tr>\n",
       "      <th>0</th>\n",
       "      <td>Afghanistan</td>\n",
       "      <td>2018</td>\n",
       "      <td>500.0</td>\n",
       "      <td>500.0</td>\n",
       "      <td>200.0</td>\n",
       "      <td>610.0</td>\n",
       "      <td>Eastern Mediterranean</td>\n",
       "    </tr>\n",
       "    <tr>\n",
       "      <th>1</th>\n",
       "      <td>Albania</td>\n",
       "      <td>2018</td>\n",
       "      <td>NaN</td>\n",
       "      <td>NaN</td>\n",
       "      <td>NaN</td>\n",
       "      <td>NaN</td>\n",
       "      <td>Europe</td>\n",
       "    </tr>\n",
       "    <tr>\n",
       "      <th>2</th>\n",
       "      <td>Algeria</td>\n",
       "      <td>2018</td>\n",
       "      <td>200.0</td>\n",
       "      <td>200.0</td>\n",
       "      <td>200.0</td>\n",
       "      <td>200.0</td>\n",
       "      <td>Africa</td>\n",
       "    </tr>\n",
       "    <tr>\n",
       "      <th>3</th>\n",
       "      <td>Angola</td>\n",
       "      <td>2018</td>\n",
       "      <td>14000.0</td>\n",
       "      <td>14000.0</td>\n",
       "      <td>9500.0</td>\n",
       "      <td>18000.0</td>\n",
       "      <td>Africa</td>\n",
       "    </tr>\n",
       "    <tr>\n",
       "      <th>4</th>\n",
       "      <td>Argentina</td>\n",
       "      <td>2018</td>\n",
       "      <td>1700.0</td>\n",
       "      <td>1700.0</td>\n",
       "      <td>1300.0</td>\n",
       "      <td>2100.0</td>\n",
       "      <td>Americas</td>\n",
       "    </tr>\n",
       "  </tbody>\n",
       "</table>\n",
       "</div>"
      ],
      "text/plain": [
       "       Country  Year    Count  Count_median  Count_min  Count_max  \\\n",
       "0  Afghanistan  2018    500.0         500.0      200.0      610.0   \n",
       "1      Albania  2018      NaN           NaN        NaN        NaN   \n",
       "2      Algeria  2018    200.0         200.0      200.0      200.0   \n",
       "3       Angola  2018  14000.0       14000.0     9500.0    18000.0   \n",
       "4    Argentina  2018   1700.0        1700.0     1300.0     2100.0   \n",
       "\n",
       "              WHO Region  \n",
       "0  Eastern Mediterranean  \n",
       "1                 Europe  \n",
       "2                 Africa  \n",
       "3                 Africa  \n",
       "4               Americas  "
      ]
     },
     "metadata": {},
     "output_type": "display_data"
    },
    {
     "name": "stdout",
     "output_type": "stream",
     "text": [
      "\n",
      "Anteprima hiv_cases:\n"
     ]
    },
    {
     "data": {
      "text/html": [
       "<div>\n",
       "<style scoped>\n",
       "    .dataframe tbody tr th:only-of-type {\n",
       "        vertical-align: middle;\n",
       "    }\n",
       "\n",
       "    .dataframe tbody tr th {\n",
       "        vertical-align: top;\n",
       "    }\n",
       "\n",
       "    .dataframe thead th {\n",
       "        text-align: right;\n",
       "    }\n",
       "</style>\n",
       "<table border=\"1\" class=\"dataframe\">\n",
       "  <thead>\n",
       "    <tr style=\"text-align: right;\">\n",
       "      <th></th>\n",
       "      <th>Country</th>\n",
       "      <th>Year</th>\n",
       "      <th>Count</th>\n",
       "      <th>Count_median</th>\n",
       "      <th>Count_min</th>\n",
       "      <th>Count_max</th>\n",
       "      <th>WHO Region</th>\n",
       "    </tr>\n",
       "  </thead>\n",
       "  <tbody>\n",
       "    <tr>\n",
       "      <th>0</th>\n",
       "      <td>Afghanistan</td>\n",
       "      <td>2018</td>\n",
       "      <td>0.1</td>\n",
       "      <td>0.1</td>\n",
       "      <td>0.1</td>\n",
       "      <td>0.1</td>\n",
       "      <td>Eastern Mediterranean</td>\n",
       "    </tr>\n",
       "    <tr>\n",
       "      <th>1</th>\n",
       "      <td>Albania</td>\n",
       "      <td>2018</td>\n",
       "      <td>NaN</td>\n",
       "      <td>NaN</td>\n",
       "      <td>NaN</td>\n",
       "      <td>NaN</td>\n",
       "      <td>Europe</td>\n",
       "    </tr>\n",
       "    <tr>\n",
       "      <th>2</th>\n",
       "      <td>Algeria</td>\n",
       "      <td>2018</td>\n",
       "      <td>0.1</td>\n",
       "      <td>0.1</td>\n",
       "      <td>0.1</td>\n",
       "      <td>0.1</td>\n",
       "      <td>Africa</td>\n",
       "    </tr>\n",
       "    <tr>\n",
       "      <th>3</th>\n",
       "      <td>Angola</td>\n",
       "      <td>2018</td>\n",
       "      <td>2.0</td>\n",
       "      <td>2.0</td>\n",
       "      <td>1.7</td>\n",
       "      <td>2.3</td>\n",
       "      <td>Africa</td>\n",
       "    </tr>\n",
       "    <tr>\n",
       "      <th>4</th>\n",
       "      <td>Argentina</td>\n",
       "      <td>2018</td>\n",
       "      <td>0.4</td>\n",
       "      <td>0.4</td>\n",
       "      <td>0.4</td>\n",
       "      <td>0.4</td>\n",
       "      <td>Americas</td>\n",
       "    </tr>\n",
       "  </tbody>\n",
       "</table>\n",
       "</div>"
      ],
      "text/plain": [
       "       Country  Year  Count  Count_median  Count_min  Count_max  \\\n",
       "0  Afghanistan  2018    0.1           0.1        0.1        0.1   \n",
       "1      Albania  2018    NaN           NaN        NaN        NaN   \n",
       "2      Algeria  2018    0.1           0.1        0.1        0.1   \n",
       "3       Angola  2018    2.0           2.0        1.7        2.3   \n",
       "4    Argentina  2018    0.4           0.4        0.4        0.4   \n",
       "\n",
       "              WHO Region  \n",
       "0  Eastern Mediterranean  \n",
       "1                 Europe  \n",
       "2                 Africa  \n",
       "3                 Africa  \n",
       "4               Americas  "
      ]
     },
     "metadata": {},
     "output_type": "display_data"
    }
   ],
   "source": [
    "\n",
    "def load_and_clean_data(filename):\n",
    "    \"\"\"Carica CSV, pulisce Count e le colonne Count_median/min/max.\"\"\"\n",
    "    try:\n",
    "        df = pd.read_csv(filename)\n",
    "        print(f\"Caricato {filename} con {len(df)} righe\")\n",
    "    except FileNotFoundError:\n",
    "        print(f\"File non trovato: {filename}\")\n",
    "        return pd.DataFrame()\n",
    "    # Normalizziamo nomi column \n",
    "    df.columns = [c.strip() for c in df.columns]\n",
    "    # Puliamo columns Count\n",
    "    if 'Count' in df.columns:\n",
    "        df['Count'] = df['Count'].astype(str).str.replace(',', '', regex=False)\n",
    "        df['Count'] = df['Count'].str.extract(r'([0-9]+\\.?[0-9]*)', expand=False)\n",
    "        df['Count'] = pd.to_numeric(df['Count'], errors='coerce')\n",
    "    for col in ['Count_median','Count_min','Count_max']:\n",
    "        if col in df.columns:\n",
    "            df[col] = pd.to_numeric(df[col], errors='coerce')\n",
    "    return df\n",
    "\n",
    "# Percorsi file\n",
    "file_living = 'no_of_people_living_with_hiv_by_country_clean.csv'\n",
    "file_deaths = 'no_of_deaths_by_country_clean.csv'\n",
    "file_cases  = 'no_of_cases_adults_15_to_49_by_country_clean.csv'\n",
    "\n",
    "hiv_living = load_and_clean_data(file_living)\n",
    "hiv_deaths = load_and_clean_data(file_deaths)\n",
    "hiv_cases  = load_and_clean_data(file_cases)\n",
    "\n",
    "# Visualizza anteprime\n",
    "print('\\nAnteprima hiv_living:')\n",
    "display(hiv_living.head())\n",
    "print('\\nAnteprima hiv_deaths:')\n",
    "display(hiv_deaths.head())\n",
    "print('\\nAnteprima hiv_cases:')\n",
    "display(hiv_cases.head())\n"
   ]
  },
  {
   "cell_type": "markdown",
   "id": "bd3778a9",
   "metadata": {},
   "source": [
    "## 2) Analisi esplorativa\n",
    "\n",
    "Breve riepilogo info, statistiche descrittive e valori mancanti per ogni dataset."
   ]
  },
  {
   "cell_type": "code",
   "execution_count": 14,
   "id": "05165c81",
   "metadata": {},
   "outputs": [
    {
     "name": "stdout",
     "output_type": "stream",
     "text": [
      "--- Persone con HIV (living) ---\n",
      "<class 'pandas.core.frame.DataFrame'>\n",
      "RangeIndex: 680 entries, 0 to 679\n",
      "Data columns (total 7 columns):\n",
      " #   Column        Non-Null Count  Dtype  \n",
      "---  ------        --------------  -----  \n",
      " 0   Country       680 non-null    object \n",
      " 1   Year          680 non-null    int64  \n",
      " 2   Count         553 non-null    float64\n",
      " 3   Count_median  553 non-null    float64\n",
      " 4   Count_min     553 non-null    float64\n",
      " 5   Count_max     553 non-null    float64\n",
      " 6   WHO Region    680 non-null    object \n",
      "dtypes: float64(4), int64(1), object(2)\n",
      "memory usage: 37.3+ KB\n"
     ]
    },
    {
     "data": {
      "text/plain": [
       "None"
      ]
     },
     "metadata": {},
     "output_type": "display_data"
    },
    {
     "data": {
      "text/html": [
       "<div>\n",
       "<style scoped>\n",
       "    .dataframe tbody tr th:only-of-type {\n",
       "        vertical-align: middle;\n",
       "    }\n",
       "\n",
       "    .dataframe tbody tr th {\n",
       "        vertical-align: top;\n",
       "    }\n",
       "\n",
       "    .dataframe thead th {\n",
       "        text-align: right;\n",
       "    }\n",
       "</style>\n",
       "<table border=\"1\" class=\"dataframe\">\n",
       "  <thead>\n",
       "    <tr style=\"text-align: right;\">\n",
       "      <th></th>\n",
       "      <th>Country</th>\n",
       "      <th>Year</th>\n",
       "      <th>Count</th>\n",
       "      <th>Count_median</th>\n",
       "      <th>Count_min</th>\n",
       "      <th>Count_max</th>\n",
       "      <th>WHO Region</th>\n",
       "    </tr>\n",
       "  </thead>\n",
       "  <tbody>\n",
       "    <tr>\n",
       "      <th>count</th>\n",
       "      <td>680</td>\n",
       "      <td>680.000000</td>\n",
       "      <td>5.530000e+02</td>\n",
       "      <td>5.530000e+02</td>\n",
       "      <td>5.530000e+02</td>\n",
       "      <td>5.530000e+02</td>\n",
       "      <td>680</td>\n",
       "    </tr>\n",
       "    <tr>\n",
       "      <th>unique</th>\n",
       "      <td>170</td>\n",
       "      <td>NaN</td>\n",
       "      <td>NaN</td>\n",
       "      <td>NaN</td>\n",
       "      <td>NaN</td>\n",
       "      <td>NaN</td>\n",
       "      <td>6</td>\n",
       "    </tr>\n",
       "    <tr>\n",
       "      <th>top</th>\n",
       "      <td>Afghanistan</td>\n",
       "      <td>NaN</td>\n",
       "      <td>NaN</td>\n",
       "      <td>NaN</td>\n",
       "      <td>NaN</td>\n",
       "      <td>NaN</td>\n",
       "      <td>Europe</td>\n",
       "    </tr>\n",
       "    <tr>\n",
       "      <th>freq</th>\n",
       "      <td>4</td>\n",
       "      <td>NaN</td>\n",
       "      <td>NaN</td>\n",
       "      <td>NaN</td>\n",
       "      <td>NaN</td>\n",
       "      <td>NaN</td>\n",
       "      <td>200</td>\n",
       "    </tr>\n",
       "    <tr>\n",
       "      <th>mean</th>\n",
       "      <td>NaN</td>\n",
       "      <td>2008.250000</td>\n",
       "      <td>1.857918e+05</td>\n",
       "      <td>1.857918e+05</td>\n",
       "      <td>1.588005e+05</td>\n",
       "      <td>2.152008e+05</td>\n",
       "      <td>NaN</td>\n",
       "    </tr>\n",
       "    <tr>\n",
       "      <th>std</th>\n",
       "      <td>NaN</td>\n",
       "      <td>6.652261</td>\n",
       "      <td>5.756750e+05</td>\n",
       "      <td>5.756750e+05</td>\n",
       "      <td>5.093823e+05</td>\n",
       "      <td>6.432599e+05</td>\n",
       "      <td>NaN</td>\n",
       "    </tr>\n",
       "    <tr>\n",
       "      <th>min</th>\n",
       "      <td>NaN</td>\n",
       "      <td>2000.000000</td>\n",
       "      <td>1.000000e+02</td>\n",
       "      <td>1.000000e+02</td>\n",
       "      <td>1.000000e+02</td>\n",
       "      <td>1.000000e+02</td>\n",
       "      <td>NaN</td>\n",
       "    </tr>\n",
       "    <tr>\n",
       "      <th>25%</th>\n",
       "      <td>NaN</td>\n",
       "      <td>2003.750000</td>\n",
       "      <td>3.700000e+03</td>\n",
       "      <td>3.700000e+03</td>\n",
       "      <td>3.100000e+03</td>\n",
       "      <td>4.600000e+03</td>\n",
       "      <td>NaN</td>\n",
       "    </tr>\n",
       "    <tr>\n",
       "      <th>50%</th>\n",
       "      <td>NaN</td>\n",
       "      <td>2007.500000</td>\n",
       "      <td>2.100000e+04</td>\n",
       "      <td>2.100000e+04</td>\n",
       "      <td>1.800000e+04</td>\n",
       "      <td>2.700000e+04</td>\n",
       "      <td>NaN</td>\n",
       "    </tr>\n",
       "    <tr>\n",
       "      <th>75%</th>\n",
       "      <td>NaN</td>\n",
       "      <td>2012.000000</td>\n",
       "      <td>1.100000e+05</td>\n",
       "      <td>1.100000e+05</td>\n",
       "      <td>9.400000e+04</td>\n",
       "      <td>1.300000e+05</td>\n",
       "      <td>NaN</td>\n",
       "    </tr>\n",
       "    <tr>\n",
       "      <th>max</th>\n",
       "      <td>NaN</td>\n",
       "      <td>2018.000000</td>\n",
       "      <td>7.700000e+06</td>\n",
       "      <td>7.700000e+06</td>\n",
       "      <td>7.100000e+06</td>\n",
       "      <td>8.300000e+06</td>\n",
       "      <td>NaN</td>\n",
       "    </tr>\n",
       "  </tbody>\n",
       "</table>\n",
       "</div>"
      ],
      "text/plain": [
       "            Country         Year         Count  Count_median     Count_min  \\\n",
       "count           680   680.000000  5.530000e+02  5.530000e+02  5.530000e+02   \n",
       "unique          170          NaN           NaN           NaN           NaN   \n",
       "top     Afghanistan          NaN           NaN           NaN           NaN   \n",
       "freq              4          NaN           NaN           NaN           NaN   \n",
       "mean            NaN  2008.250000  1.857918e+05  1.857918e+05  1.588005e+05   \n",
       "std             NaN     6.652261  5.756750e+05  5.756750e+05  5.093823e+05   \n",
       "min             NaN  2000.000000  1.000000e+02  1.000000e+02  1.000000e+02   \n",
       "25%             NaN  2003.750000  3.700000e+03  3.700000e+03  3.100000e+03   \n",
       "50%             NaN  2007.500000  2.100000e+04  2.100000e+04  1.800000e+04   \n",
       "75%             NaN  2012.000000  1.100000e+05  1.100000e+05  9.400000e+04   \n",
       "max             NaN  2018.000000  7.700000e+06  7.700000e+06  7.100000e+06   \n",
       "\n",
       "           Count_max WHO Region  \n",
       "count   5.530000e+02        680  \n",
       "unique           NaN          6  \n",
       "top              NaN     Europe  \n",
       "freq             NaN        200  \n",
       "mean    2.152008e+05        NaN  \n",
       "std     6.432599e+05        NaN  \n",
       "min     1.000000e+02        NaN  \n",
       "25%     4.600000e+03        NaN  \n",
       "50%     2.700000e+04        NaN  \n",
       "75%     1.300000e+05        NaN  \n",
       "max     8.300000e+06        NaN  "
      ]
     },
     "metadata": {},
     "output_type": "display_data"
    },
    {
     "data": {
      "text/plain": [
       "Country           0\n",
       "Year              0\n",
       "Count           127\n",
       "Count_median    127\n",
       "Count_min       127\n",
       "Count_max       127\n",
       "WHO Region        0\n",
       "dtype: int64"
      ]
     },
     "metadata": {},
     "output_type": "display_data"
    },
    {
     "name": "stdout",
     "output_type": "stream",
     "text": [
      "--- Decessi per HIV (deaths) ---\n",
      "<class 'pandas.core.frame.DataFrame'>\n",
      "RangeIndex: 510 entries, 0 to 509\n",
      "Data columns (total 7 columns):\n",
      " #   Column        Non-Null Count  Dtype  \n",
      "---  ------        --------------  -----  \n",
      " 0   Country       510 non-null    object \n",
      " 1   Year          510 non-null    int64  \n",
      " 2   Count         400 non-null    float64\n",
      " 3   Count_median  400 non-null    float64\n",
      " 4   Count_min     400 non-null    float64\n",
      " 5   Count_max     400 non-null    float64\n",
      " 6   WHO Region    510 non-null    object \n",
      "dtypes: float64(4), int64(1), object(2)\n",
      "memory usage: 28.0+ KB\n"
     ]
    },
    {
     "data": {
      "text/plain": [
       "None"
      ]
     },
     "metadata": {},
     "output_type": "display_data"
    },
    {
     "data": {
      "text/html": [
       "<div>\n",
       "<style scoped>\n",
       "    .dataframe tbody tr th:only-of-type {\n",
       "        vertical-align: middle;\n",
       "    }\n",
       "\n",
       "    .dataframe tbody tr th {\n",
       "        vertical-align: top;\n",
       "    }\n",
       "\n",
       "    .dataframe thead th {\n",
       "        text-align: right;\n",
       "    }\n",
       "</style>\n",
       "<table border=\"1\" class=\"dataframe\">\n",
       "  <thead>\n",
       "    <tr style=\"text-align: right;\">\n",
       "      <th></th>\n",
       "      <th>Country</th>\n",
       "      <th>Year</th>\n",
       "      <th>Count</th>\n",
       "      <th>Count_median</th>\n",
       "      <th>Count_min</th>\n",
       "      <th>Count_max</th>\n",
       "      <th>WHO Region</th>\n",
       "    </tr>\n",
       "  </thead>\n",
       "  <tbody>\n",
       "    <tr>\n",
       "      <th>count</th>\n",
       "      <td>510</td>\n",
       "      <td>510.000000</td>\n",
       "      <td>400.000000</td>\n",
       "      <td>400.000000</td>\n",
       "      <td>400.000000</td>\n",
       "      <td>400.00000</td>\n",
       "      <td>510</td>\n",
       "    </tr>\n",
       "    <tr>\n",
       "      <th>unique</th>\n",
       "      <td>170</td>\n",
       "      <td>NaN</td>\n",
       "      <td>NaN</td>\n",
       "      <td>NaN</td>\n",
       "      <td>NaN</td>\n",
       "      <td>NaN</td>\n",
       "      <td>6</td>\n",
       "    </tr>\n",
       "    <tr>\n",
       "      <th>top</th>\n",
       "      <td>Afghanistan</td>\n",
       "      <td>NaN</td>\n",
       "      <td>NaN</td>\n",
       "      <td>NaN</td>\n",
       "      <td>NaN</td>\n",
       "      <td>NaN</td>\n",
       "      <td>Europe</td>\n",
       "    </tr>\n",
       "    <tr>\n",
       "      <th>freq</th>\n",
       "      <td>3</td>\n",
       "      <td>NaN</td>\n",
       "      <td>NaN</td>\n",
       "      <td>NaN</td>\n",
       "      <td>NaN</td>\n",
       "      <td>NaN</td>\n",
       "      <td>150</td>\n",
       "    </tr>\n",
       "    <tr>\n",
       "      <th>mean</th>\n",
       "      <td>NaN</td>\n",
       "      <td>2009.333333</td>\n",
       "      <td>6871.825000</td>\n",
       "      <td>6871.825000</td>\n",
       "      <td>5232.475000</td>\n",
       "      <td>9116.42500</td>\n",
       "      <td>NaN</td>\n",
       "    </tr>\n",
       "    <tr>\n",
       "      <th>std</th>\n",
       "      <td>NaN</td>\n",
       "      <td>7.370804</td>\n",
       "      <td>17748.914144</td>\n",
       "      <td>17748.914144</td>\n",
       "      <td>13557.736617</td>\n",
       "      <td>24101.57797</td>\n",
       "      <td>NaN</td>\n",
       "    </tr>\n",
       "    <tr>\n",
       "      <th>min</th>\n",
       "      <td>NaN</td>\n",
       "      <td>2000.000000</td>\n",
       "      <td>100.000000</td>\n",
       "      <td>100.000000</td>\n",
       "      <td>100.000000</td>\n",
       "      <td>100.00000</td>\n",
       "      <td>NaN</td>\n",
       "    </tr>\n",
       "    <tr>\n",
       "      <th>25%</th>\n",
       "      <td>NaN</td>\n",
       "      <td>2000.000000</td>\n",
       "      <td>100.000000</td>\n",
       "      <td>100.000000</td>\n",
       "      <td>100.000000</td>\n",
       "      <td>100.00000</td>\n",
       "      <td>NaN</td>\n",
       "    </tr>\n",
       "    <tr>\n",
       "      <th>50%</th>\n",
       "      <td>NaN</td>\n",
       "      <td>2010.000000</td>\n",
       "      <td>605.000000</td>\n",
       "      <td>605.000000</td>\n",
       "      <td>500.000000</td>\n",
       "      <td>875.00000</td>\n",
       "      <td>NaN</td>\n",
       "    </tr>\n",
       "    <tr>\n",
       "      <th>75%</th>\n",
       "      <td>NaN</td>\n",
       "      <td>2018.000000</td>\n",
       "      <td>3825.000000</td>\n",
       "      <td>3825.000000</td>\n",
       "      <td>3025.000000</td>\n",
       "      <td>5025.00000</td>\n",
       "      <td>NaN</td>\n",
       "    </tr>\n",
       "    <tr>\n",
       "      <th>max</th>\n",
       "      <td>NaN</td>\n",
       "      <td>2018.000000</td>\n",
       "      <td>140000.000000</td>\n",
       "      <td>140000.000000</td>\n",
       "      <td>110000.000000</td>\n",
       "      <td>190000.00000</td>\n",
       "      <td>NaN</td>\n",
       "    </tr>\n",
       "  </tbody>\n",
       "</table>\n",
       "</div>"
      ],
      "text/plain": [
       "            Country         Year          Count   Count_median      Count_min  \\\n",
       "count           510   510.000000     400.000000     400.000000     400.000000   \n",
       "unique          170          NaN            NaN            NaN            NaN   \n",
       "top     Afghanistan          NaN            NaN            NaN            NaN   \n",
       "freq              3          NaN            NaN            NaN            NaN   \n",
       "mean            NaN  2009.333333    6871.825000    6871.825000    5232.475000   \n",
       "std             NaN     7.370804   17748.914144   17748.914144   13557.736617   \n",
       "min             NaN  2000.000000     100.000000     100.000000     100.000000   \n",
       "25%             NaN  2000.000000     100.000000     100.000000     100.000000   \n",
       "50%             NaN  2010.000000     605.000000     605.000000     500.000000   \n",
       "75%             NaN  2018.000000    3825.000000    3825.000000    3025.000000   \n",
       "max             NaN  2018.000000  140000.000000  140000.000000  110000.000000   \n",
       "\n",
       "           Count_max WHO Region  \n",
       "count      400.00000        510  \n",
       "unique           NaN          6  \n",
       "top              NaN     Europe  \n",
       "freq             NaN        150  \n",
       "mean      9116.42500        NaN  \n",
       "std      24101.57797        NaN  \n",
       "min        100.00000        NaN  \n",
       "25%        100.00000        NaN  \n",
       "50%        875.00000        NaN  \n",
       "75%       5025.00000        NaN  \n",
       "max     190000.00000        NaN  "
      ]
     },
     "metadata": {},
     "output_type": "display_data"
    },
    {
     "data": {
      "text/plain": [
       "Country           0\n",
       "Year              0\n",
       "Count           110\n",
       "Count_median    110\n",
       "Count_min       110\n",
       "Count_max       110\n",
       "WHO Region        0\n",
       "dtype: int64"
      ]
     },
     "metadata": {},
     "output_type": "display_data"
    },
    {
     "name": "stdout",
     "output_type": "stream",
     "text": [
      "--- Casi 15-49 (cases) ---\n",
      "<class 'pandas.core.frame.DataFrame'>\n",
      "RangeIndex: 680 entries, 0 to 679\n",
      "Data columns (total 7 columns):\n",
      " #   Column        Non-Null Count  Dtype  \n",
      "---  ------        --------------  -----  \n",
      " 0   Country       680 non-null    object \n",
      " 1   Year          680 non-null    int64  \n",
      " 2   Count         556 non-null    float64\n",
      " 3   Count_median  556 non-null    float64\n",
      " 4   Count_min     556 non-null    float64\n",
      " 5   Count_max     556 non-null    float64\n",
      " 6   WHO Region    680 non-null    object \n",
      "dtypes: float64(4), int64(1), object(2)\n",
      "memory usage: 37.3+ KB\n"
     ]
    },
    {
     "data": {
      "text/plain": [
       "None"
      ]
     },
     "metadata": {},
     "output_type": "display_data"
    },
    {
     "data": {
      "text/html": [
       "<div>\n",
       "<style scoped>\n",
       "    .dataframe tbody tr th:only-of-type {\n",
       "        vertical-align: middle;\n",
       "    }\n",
       "\n",
       "    .dataframe tbody tr th {\n",
       "        vertical-align: top;\n",
       "    }\n",
       "\n",
       "    .dataframe thead th {\n",
       "        text-align: right;\n",
       "    }\n",
       "</style>\n",
       "<table border=\"1\" class=\"dataframe\">\n",
       "  <thead>\n",
       "    <tr style=\"text-align: right;\">\n",
       "      <th></th>\n",
       "      <th>Country</th>\n",
       "      <th>Year</th>\n",
       "      <th>Count</th>\n",
       "      <th>Count_median</th>\n",
       "      <th>Count_min</th>\n",
       "      <th>Count_max</th>\n",
       "      <th>WHO Region</th>\n",
       "    </tr>\n",
       "  </thead>\n",
       "  <tbody>\n",
       "    <tr>\n",
       "      <th>count</th>\n",
       "      <td>680</td>\n",
       "      <td>680.000000</td>\n",
       "      <td>556.000000</td>\n",
       "      <td>556.000000</td>\n",
       "      <td>556.000000</td>\n",
       "      <td>556.000000</td>\n",
       "      <td>680</td>\n",
       "    </tr>\n",
       "    <tr>\n",
       "      <th>unique</th>\n",
       "      <td>170</td>\n",
       "      <td>NaN</td>\n",
       "      <td>NaN</td>\n",
       "      <td>NaN</td>\n",
       "      <td>NaN</td>\n",
       "      <td>NaN</td>\n",
       "      <td>6</td>\n",
       "    </tr>\n",
       "    <tr>\n",
       "      <th>top</th>\n",
       "      <td>Afghanistan</td>\n",
       "      <td>NaN</td>\n",
       "      <td>NaN</td>\n",
       "      <td>NaN</td>\n",
       "      <td>NaN</td>\n",
       "      <td>NaN</td>\n",
       "      <td>Europe</td>\n",
       "    </tr>\n",
       "    <tr>\n",
       "      <th>freq</th>\n",
       "      <td>4</td>\n",
       "      <td>NaN</td>\n",
       "      <td>NaN</td>\n",
       "      <td>NaN</td>\n",
       "      <td>NaN</td>\n",
       "      <td>NaN</td>\n",
       "      <td>200</td>\n",
       "    </tr>\n",
       "    <tr>\n",
       "      <th>mean</th>\n",
       "      <td>NaN</td>\n",
       "      <td>2008.250000</td>\n",
       "      <td>2.029317</td>\n",
       "      <td>2.029317</td>\n",
       "      <td>1.762770</td>\n",
       "      <td>2.303058</td>\n",
       "      <td>NaN</td>\n",
       "    </tr>\n",
       "    <tr>\n",
       "      <th>std</th>\n",
       "      <td>NaN</td>\n",
       "      <td>6.652261</td>\n",
       "      <td>4.579652</td>\n",
       "      <td>4.579652</td>\n",
       "      <td>4.117482</td>\n",
       "      <td>4.976971</td>\n",
       "      <td>NaN</td>\n",
       "    </tr>\n",
       "    <tr>\n",
       "      <th>min</th>\n",
       "      <td>NaN</td>\n",
       "      <td>2000.000000</td>\n",
       "      <td>0.100000</td>\n",
       "      <td>0.100000</td>\n",
       "      <td>0.100000</td>\n",
       "      <td>0.100000</td>\n",
       "      <td>NaN</td>\n",
       "    </tr>\n",
       "    <tr>\n",
       "      <th>25%</th>\n",
       "      <td>NaN</td>\n",
       "      <td>2003.750000</td>\n",
       "      <td>0.100000</td>\n",
       "      <td>0.100000</td>\n",
       "      <td>0.100000</td>\n",
       "      <td>0.100000</td>\n",
       "      <td>NaN</td>\n",
       "    </tr>\n",
       "    <tr>\n",
       "      <th>50%</th>\n",
       "      <td>NaN</td>\n",
       "      <td>2007.500000</td>\n",
       "      <td>0.400000</td>\n",
       "      <td>0.400000</td>\n",
       "      <td>0.300000</td>\n",
       "      <td>0.500000</td>\n",
       "      <td>NaN</td>\n",
       "    </tr>\n",
       "    <tr>\n",
       "      <th>75%</th>\n",
       "      <td>NaN</td>\n",
       "      <td>2012.000000</td>\n",
       "      <td>1.500000</td>\n",
       "      <td>1.500000</td>\n",
       "      <td>1.200000</td>\n",
       "      <td>1.900000</td>\n",
       "      <td>NaN</td>\n",
       "    </tr>\n",
       "    <tr>\n",
       "      <th>max</th>\n",
       "      <td>NaN</td>\n",
       "      <td>2018.000000</td>\n",
       "      <td>27.400000</td>\n",
       "      <td>27.400000</td>\n",
       "      <td>25.200000</td>\n",
       "      <td>29.300000</td>\n",
       "      <td>NaN</td>\n",
       "    </tr>\n",
       "  </tbody>\n",
       "</table>\n",
       "</div>"
      ],
      "text/plain": [
       "            Country         Year       Count  Count_median   Count_min  \\\n",
       "count           680   680.000000  556.000000    556.000000  556.000000   \n",
       "unique          170          NaN         NaN           NaN         NaN   \n",
       "top     Afghanistan          NaN         NaN           NaN         NaN   \n",
       "freq              4          NaN         NaN           NaN         NaN   \n",
       "mean            NaN  2008.250000    2.029317      2.029317    1.762770   \n",
       "std             NaN     6.652261    4.579652      4.579652    4.117482   \n",
       "min             NaN  2000.000000    0.100000      0.100000    0.100000   \n",
       "25%             NaN  2003.750000    0.100000      0.100000    0.100000   \n",
       "50%             NaN  2007.500000    0.400000      0.400000    0.300000   \n",
       "75%             NaN  2012.000000    1.500000      1.500000    1.200000   \n",
       "max             NaN  2018.000000   27.400000     27.400000   25.200000   \n",
       "\n",
       "         Count_max WHO Region  \n",
       "count   556.000000        680  \n",
       "unique         NaN          6  \n",
       "top            NaN     Europe  \n",
       "freq           NaN        200  \n",
       "mean      2.303058        NaN  \n",
       "std       4.976971        NaN  \n",
       "min       0.100000        NaN  \n",
       "25%       0.100000        NaN  \n",
       "50%       0.500000        NaN  \n",
       "75%       1.900000        NaN  \n",
       "max      29.300000        NaN  "
      ]
     },
     "metadata": {},
     "output_type": "display_data"
    },
    {
     "data": {
      "text/plain": [
       "Country           0\n",
       "Year              0\n",
       "Count           124\n",
       "Count_median    124\n",
       "Count_min       124\n",
       "Count_max       124\n",
       "WHO Region        0\n",
       "dtype: int64"
      ]
     },
     "metadata": {},
     "output_type": "display_data"
    },
    {
     "name": "stdout",
     "output_type": "stream",
     "text": [
      "Anni disponibili: [np.int64(2000), np.int64(2005), np.int64(2010), np.int64(2018)]\n"
     ]
    }
   ],
   "source": [
    "\n",
    "def explore(df, name):\n",
    "    if df.empty:\n",
    "        print(f\"{name}: dataset vuoto\")\n",
    "        return\n",
    "    print(f\"--- {name} ---\")\n",
    "    display(df.info())\n",
    "    display(df.describe(include='all'))\n",
    "    display(df.isna().sum())\n",
    "\n",
    "explore(hiv_living, \"Persone con HIV (living)\")\n",
    "explore(hiv_deaths, \"Decessi per HIV (deaths)\")\n",
    "explore(hiv_cases,  \"Casi 15-49 (cases)\")\n",
    "\n",
    "# Anni disponibili\n",
    "available_years = sorted(set(hiv_living['Year'].dropna().unique()) | set(hiv_deaths['Year'].dropna().unique()) | set(hiv_cases['Year'].dropna().unique()))\n",
    "print('Anni disponibili:', available_years)\n"
   ]
  },
  {
   "cell_type": "markdown",
   "id": "3ece960f",
   "metadata": {},
   "source": [
    "## 3) Preparazione visualizzazioni\n",
    "\n",
    "Selezione palette per regioni e selezione dell'ultimo anno disponibile."
   ]
  },
  {
   "cell_type": "code",
   "execution_count": 43,
   "id": "b4befc09",
   "metadata": {},
   "outputs": [
    {
     "name": "stdout",
     "output_type": "stream",
     "text": [
      "Ultimo anno selezionato: 2018\n"
     ]
    }
   ],
   "source": [
    "\n",
    "# Palette regioni (unione dei valori presenti)\n",
    "regions = list(set(hiv_living.get('WHO Region', pd.Series())).union(hiv_deaths.get('WHO Region', pd.Series())).union(hiv_cases.get('WHO Region', pd.Series())))\n",
    "regions = [r for r in regions if pd.notna(r)]\n",
    "colors_region = {region: cm.tab20(i/len(regions)) for i, region in enumerate(regions)}\n",
    "\n",
    "# Ultimo anno comune (prendiamo max dei tre)\n",
    "last_year = int(max(hiv_living['Year'].max(), hiv_deaths['Year'].max(), hiv_cases['Year'].max()))\n",
    "print('Ultimo anno selezionato:', last_year)\n",
    "\n",
    "hiv_living_last = hiv_living[hiv_living['Year'] == last_year].copy()\n",
    "hiv_deaths_last = hiv_deaths[hiv_deaths['Year'] == last_year].copy()\n",
    "hiv_cases_last  = hiv_cases[hiv_cases['Year'] == last_year].copy()\n"
   ]
  },
  {
   "cell_type": "markdown",
   "id": "d315c77f",
   "metadata": {},
   "source": [
    "## 4) Andamento globale comparato\n",
    "\n",
    "Questo grafico mostra le serie temporali globali aggregate per **Persone con HIV** e **Decessi**."
   ]
  },
  {
   "cell_type": "code",
   "execution_count": 46,
   "id": "3bf23480",
   "metadata": {},
   "outputs": [
    {
     "data": {
      "text/plain": [
       "<Figure size 1400x600 with 0 Axes>"
      ]
     },
     "metadata": {},
     "output_type": "display_data"
    },
    {
     "data": {
      "image/png": "[encoded data removed]",
      "text/plain": [
       "<Figure size 1400x600 with 2 Axes>"
      ]
     },
     "metadata": {},
     "output_type": "display_data"
    }
   ],
   "source": [
    "if not hiv_living.empty and not hiv_deaths.empty:\n",
    "    plt.figure(figsize=(14, 6))\n",
    "    \n",
    "    # Calcolo trend\n",
    "    living_trend = hiv_living.groupby('Year')['Count'].sum().reset_index()\n",
    "    deaths_trend = hiv_deaths.groupby('Year')['Count'].sum().reset_index()\n",
    "    \n",
    "    # creiamo figura, doppio asse Y\n",
    "    fig, ax1 = plt.subplots(figsize=(14, 6))\n",
    "    \n",
    "    color = 'tab:purple'\n",
    "    ax1.set_xlabel('Anno')\n",
    "    ax1.set_ylabel('Persone con HIV', color=color)\n",
    "    ax1.plot(living_trend['Year'], living_trend['Count'], 'o-', color=color, label='Persone con HIV')\n",
    "    ax1.tick_params(axis='y', labelcolor=color)\n",
    "    \n",
    "    ax2 = ax1.twinx()\n",
    "    color = 'tab:red'\n",
    "    ax2.set_ylabel('Decessi per HIV', color=color)\n",
    "    ax2.plot(deaths_trend['Year'], deaths_trend['Count'], 'o-', color=color, label='Decessi')\n",
    "    ax2.tick_params(axis='y', labelcolor=color)\n",
    "    \n",
    "    plt.title('Confronto Andamento Globale: Persone con HIV vs Decessi', pad=20)\n",
    "    plt.xticks(available_years)\n",
    "    plt.grid(True)\n",
    "    \n",
    "    # Unica legenda per entrambi gli assi (y)\n",
    "    lines1, labels1 = ax1.get_legend_handles_labels()\n",
    "    lines2, labels2 = ax2.get_legend_handles_labels()\n",
    "    ax1.legend(lines1 + lines2, labels1 + labels2, loc='upper left')\n",
    "    \n",
    "    plt.tight_layout()\n",
    "    plt.show()\n"
   ]
  },
  {
   "cell_type": "markdown",
   "id": "e430ad44",
   "metadata": {},
   "source": [
    "### 4.2 Mappe interattive arricchite (ultimo anno - 2018)\n",
    "\n",
    "Mappe separate ma con evidenziata la distribuzione geografica dell'HIV. Ogni paese è colorato in base ai valori registrati, in modo da visualizzare quali regioni hanno i numeri più alti."
   ]
  },
  {
   "cell_type": "code",
   "execution_count": 49,
   "id": "d6b7bd53",
   "metadata": {},
   "outputs": [
    {
     "data": {
      "application/vnd.plotly.v1+json": {
       "config": {
        "plotlyServerURL": "https://plot.ly"
       },
       "data": [
        {
         "coloraxis": "coloraxis",
         "customdata": {
          "bdata": "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",
          "dtype": "f8",
          "shape": "138, 3"
         },
         "geo": "geo",
         "hovertemplate": "<b>%{hovertext}</b><br><br>Country=%{location}<br>Cases_15_49=%{customdata[0]}<br>Deaths=%{customdata[1]}<br>Death_Ratio=%{customdata[2]}<br>Living=%{z}<extra></extra>",
         "hovertext": [
          "Afghanistan",
          "Algeria",
          "Angola",
          "Argentina",
          "Armenia",
          "Australia",
          "Bahamas",
          "Bangladesh",
          "Barbados",
          "Belarus",
          "Belize",
          "Benin",
          "Bhutan",
          "Bolivia (Plurinational State of)",
          "Bosnia and Herzegovina",
          "Botswana",
          "Brazil",
          "Bulgaria",
          "Burkina Faso",
          "Burundi",
          "Cabo Verde",
          "Cambodia",
          "Cameroon",
          "Central African Republic",
          "Chad",
          "Chile",
          "Colombia",
          "Comoros",
          "Congo",
          "Costa Rica",
          "Croatia",
          "Cuba",
          "Czechia",
          "Côte d'Ivoire",
          "Democratic Republic of the Congo",
          "Denmark",
          "Djibouti",
          "Dominican Republic",
          "Ecuador",
          "Egypt",
          "El Salvador",
          "Equatorial Guinea",
          "Eritrea",
          "Estonia",
          "Eswatini",
          "Ethiopia",
          "Finland",
          "France",
          "Gabon",
          "Gambia",
          "Georgia",
          "Germany",
          "Ghana",
          "Guatemala",
          "Guinea",
          "Guinea-Bissau",
          "Guyana",
          "Haiti",
          "Honduras",
          "Hungary",
          "Iceland",
          "Indonesia",
          "Iran (Islamic Republic of)",
          "Ireland",
          "Israel",
          "Italy",
          "Jamaica",
          "Japan",
          "Jordan",
          "Kazakhstan",
          "Kenya",
          "Kuwait",
          "Kyrgyzstan",
          "Lao People's Democratic Republic",
          "Latvia",
          "Lebanon",
          "Lesotho",
          "Liberia",
          "Libya",
          "Luxembourg",
          "Madagascar",
          "Malawi",
          "Malaysia",
          "Mali",
          "Mauritania",
          "Mauritius",
          "Mexico",
          "Mongolia",
          "Montenegro",
          "Morocco",
          "Mozambique",
          "Myanmar",
          "Namibia",
          "Nepal",
          "New Zealand",
          "Nicaragua",
          "Niger",
          "Nigeria",
          "Norway",
          "Oman",
          "Pakistan",
          "Panama",
          "Papua New Guinea",
          "Paraguay",
          "Peru",
          "Philippines",
          "Portugal",
          "Republic of Moldova",
          "Republic of North Macedonia",
          "Romania",
          "Rwanda",
          "Senegal",
          "Serbia",
          "Sierra Leone",
          "Singapore",
          "Slovakia",
          "Somalia",
          "South Africa",
          "South Sudan",
          "Spain",
          "Sri Lanka",
          "Sudan",
          "Suriname",
          "Syrian Arab Republic",
          "Tajikistan",
          "Thailand",
          "Togo",
          "Tunisia",
          "Uganda",
          "Ukraine",
          "United Republic of Tanzania",
          "Uruguay",
          "Uzbekistan",
          "Venezuela (Bolivarian Republic of)",
          "Viet Nam",
          "Yemen",
          "Zambia",
          "Zimbabwe"
         ],
         "locationmode": "country names",
         "locations": [
          "Afghanistan",
          "Algeria",
          "Angola",
          "Argentina",
          "Armenia",
          "Australia",
          "Bahamas",
          "Bangladesh",
          "Barbados",
          "Belarus",
          "Belize",
          "Benin",
          "Bhutan",
          "Bolivia (Plurinational State of)",
          "Bosnia and Herzegovina",
          "Botswana",
          "Brazil",
          "Bulgaria",
          "Burkina Faso",
          "Burundi",
          "Cabo Verde",
          "Cambodia",
          "Cameroon",
          "Central African Republic",
          "Chad",
          "Chile",
          "Colombia",
          "Comoros",
          "Congo",
          "Costa Rica",
          "Croatia",
          "Cuba",
          "Czechia",
          "Côte d'Ivoire",
          "Democratic Republic of the Congo",
          "Denmark",
          "Djibouti",
          "Dominican Republic",
          "Ecuador",
          "Egypt",
          "El Salvador",
          "Equatorial Guinea",
          "Eritrea",
          "Estonia",
          "Eswatini",
          "Ethiopia",
          "Finland",
          "France",
          "Gabon",
          "Gambia",
          "Georgia",
          "Germany",
          "Ghana",
          "Guatemala",
          "Guinea",
          "Guinea-Bissau",
          "Guyana",
          "Haiti",
          "Honduras",
          "Hungary",
          "Iceland",
          "Indonesia",
          "Iran (Islamic Republic of)",
          "Ireland",
          "Israel",
          "Italy",
          "Jamaica",
          "Japan",
          "Jordan",
          "Kazakhstan",
          "Kenya",
          "Kuwait",
          "Kyrgyzstan",
          "Lao People's Democratic Republic",
          "Latvia",
          "Lebanon",
          "Lesotho",
          "Liberia",
          "Libya",
          "Luxembourg",
          "Madagascar",
          "Malawi",
          "Malaysia",
          "Mali",
          "Mauritania",
          "Mauritius",
          "Mexico",
          "Mongolia",
          "Montenegro",
          "Morocco",
          "Mozambique",
          "Myanmar",
          "Namibia",
          "Nepal",
          "New Zealand",
          "Nicaragua",
          "Niger",
          "Nigeria",
          "Norway",
          "Oman",
          "Pakistan",
          "Panama",
          "Papua New Guinea",
          "Paraguay",
          "Peru",
          "Philippines",
          "Portugal",
          "Republic of Moldova",
          "Republic of North Macedonia",
          "Romania",
          "Rwanda",
          "Senegal",
          "Serbia",
          "Sierra Leone",
          "Singapore",
          "Slovakia",
          "Somalia",
          "South Africa",
          "South Sudan",
          "Spain",
          "Sri Lanka",
          "Sudan",
          "Suriname",
          "Syrian Arab Republic",
          "Tajikistan",
          "Thailand",
          "Togo",
          "Tunisia",
          "Uganda",
          "Ukraine",
          "United Republic of Tanzania",
          "Uruguay",
          "Uzbekistan",
          "Venezuela (Bolivarian Republic of)",
          "Viet Nam",
          "Yemen",
          "Zambia",
          "Zimbabwe"
         ],
         "name": "",
         "type": "choropleth",
         "z": {
          "bdata": "AAAAAAAgvEAAAAAAAEDPQAAAAABAJBRBAAAAAAAXAUEAAAAAAFirQAAAAAAAWNtAAAAAAABwt0AAAAAAAFjLQAAAAAAAcKdAAAAAAABe2kAAAAAAACSzQAAAAACA0vFAAAAAAABQlEAAAAAAAHzVQAAAAAAAQH9AAAAAAECVFkEAAAAAQHcrQQAAAAAAWKtAAAAAAABw90AAAAAAAAX0QAAAAAAAwKJAAAAAAIDS8UAAAAAAwHogQQAAAAAA2/pAAAAAAABM/UAAAAAAgFXxQAAAAAAAiANBAAAAAAAAaUAAAAAAgLr1QAAAAAAATM1AAAAAAAAAmUAAAAAAAEbeQAAAAAAAMLFAAAAAAIATHEEAAAAAQHcbQQAAAAAAOLhAAAAAAAAwwUAAAAAAABfxQAAAAAAAfOVAAAAAAAB81UAAAAAAAGrYQAAAAAAARu5AAAAAAACU0UAAAAAAAOi8QAAAAACAoglBAAAAAKAOJUEAAAAAAECvQAAAAAAA+QVBAAAAAADh6UAAAAAAAGTZQAAAAAAAXMJAAAAAAIA99UAAAAAAQCQUQQAAAAAA8+ZAAAAAAABM/UAAAAAAAHzlQAAAAAAABMBAAAAAAACIA0EAAAAAAHbWQAAAAAAA6KxAAAAAAABAf0AAAAAAAIgjQQAAAAAAye1AAAAAAAAgvEAAAAAAAJTBQAAAAAAAvf9AAAAAAACI40AAAAAAAEzdQAAAAAAAQH9AAAAAAABk2UAAAAAAAGo4QQAAAAAAAIRAAAAAAACawEAAAAAAAHDHQAAAAAAAtLRAAAAAAACIo0AAAAAAgMAUQQAAAAAAC+NAAAAAAAD4wUAAAAAAAMCSQAAAAAAAC+NAAAAAAICELkEAAAAAgD31QAAAAACATwJBAAAAAADgtUAAAAAAAGTJQAAAAACAEwxBAAAAAADAgkAAAAAAAEB/QAAAAAAAgtRAAAAAAODIQEEAAAAAAEwNQQAAAAAAaghBAAAAAABM3UAAAAAAACCsQAAAAAAAXMJAAAAAAACU4UAAAAAA4P08QQAAAAAAqLZAAAAAAAAAqUAAAAAAAIgDQQAAAAAAZNlAAAAAAAD55UAAAAAAAILUQAAAAACASfNAAAAAAIDM8kAAAAAAAAXkQAAAAAAAmtBAAAAAAABAf0AAAAAAAJTRQAAAAAAA2wpBAAAAAACC5EAAAAAAAHCnQAAAAAAAF/FAAAAAAADcvkAAAAAAAMCSQAAAAAAAfMVAAAAAAIhfXUEAAAAAgDEHQQAAAACATwJBAAAAAABYq0AAAAAAAM/sQAAAAAAA4LVAAAAAAACghEAAAAAAAGTJQAAAAAAATB1BAAAAAADb+kAAAAAAAOClQAAAAADAXDVBAAAAAABMDUEAAAAAAGo4QQAAAAAAWMtAAAAAAABk6UAAAAAAAEz9QAAAAACAEwxBAAAAAAB8xUAAAAAAgE8yQQAAAAAg1jNB",
          "dtype": "f8"
         }
        }
       ],
       "layout": {
        "coloraxis": {
         "colorbar": {
          "title": {
           "text": "Living"
          }
         },
         "colorscale": [
          [
           0,
           "rgb(252,251,253)"
          ],
          [
           0.125,
           "rgb(239,237,245)"
          ],
          [
           0.25,
           "rgb(218,218,235)"
          ],
          [
           0.375,
           "rgb(188,189,220)"
          ],
          [
           0.5,
           "rgb(158,154,200)"
          ],
          [
           0.625,
           "rgb(128,125,186)"
          ],
          [
           0.75,
           "rgb(106,81,163)"
          ],
          [
           0.875,
           "rgb(84,39,143)"
          ],
          [
           1,
           "rgb(63,0,125)"
          ]
         ]
        },
        "geo": {
         "center": {},
         "domain": {
          "x": [
           0,
           1
          ],
          "y": [
           0,
           1
          ]
         },
         "scope": "world"
        },
        "legend": {
         "tracegroupgap": 0
        },
        "template": {
         "data": {
          "bar": [
           {
            "error_x": {
             "color": "#2a3f5f"
            },
            "error_y": {
             "color": "#2a3f5f"
            },
            "marker": {
             "line": {
              "color": "#E5ECF6",
              "width": 0.5
             },
             "pattern": {
              "fillmode": "overlay",
              "size": 10,
              "solidity": 0.2
             }
            },
            "type": "bar"
           }
          ],
          "barpolar": [
           {
            "marker": {
             "line": {
              "color": "#E5ECF6",
              "width": 0.5
             },
             "pattern": {
              "fillmode": "overlay",
              "size": 10,
              "solidity": 0.2
             }
            },
            "type": "barpolar"
           }
          ],
          "carpet": [
           {
            "aaxis": {
             "endlinecolor": "#2a3f5f",
             "gridcolor": "white",
             "linecolor": "white",
             "minorgridcolor": "white",
             "startlinecolor": "#2a3f5f"
            },
            "baxis": {
             "endlinecolor": "#2a3f5f",
             "gridcolor": "white",
             "linecolor": "white",
             "minorgridcolor": "white",
             "startlinecolor": "#2a3f5f"
            },
            "type": "carpet"
           }
          ],
          "choropleth": [
           {
            "colorbar": {
             "outlinewidth": 0,
             "ticks": ""
            },
            "type": "choropleth"
           }
          ],
          "contour": [
           {
            "colorbar": {
             "outlinewidth": 0,
             "ticks": ""
            },
            "colorscale": [
             [
              0,
              "#0d0887"
             ],
             [
              0.1111111111111111,
              "#46039f"
             ],
             [
              0.2222222222222222,
              "#7201a8"
             ],
             [
              0.3333333333333333,
              "#9c179e"
             ],
             [
              0.4444444444444444,
              "#bd3786"
             ],
             [
              0.5555555555555556,
              "#d8576b"
             ],
             [
              0.6666666666666666,
              "#ed7953"
             ],
             [
              0.7777777777777778,
              "#fb9f3a"
             ],
             [
              0.8888888888888888,
              "#fdca26"
             ],
             [
              1,
              "#f0f921"
             ]
            ],
            "type": "contour"
           }
          ],
          "contourcarpet": [
           {
            "colorbar": {
             "outlinewidth": 0,
             "ticks": ""
            },
            "type": "contourcarpet"
           }
          ],
          "heatmap": [
           {
            "colorbar": {
             "outlinewidth": 0,
             "ticks": ""
            },
            "colorscale": [
             [
              0,
              "#0d0887"
             ],
             [
              0.1111111111111111,
              "#46039f"
             ],
             [
              0.2222222222222222,
              "#7201a8"
             ],
             [
              0.3333333333333333,
              "#9c179e"
             ],
             [
              0.4444444444444444,
              "#bd3786"
             ],
             [
              0.5555555555555556,
              "#d8576b"
             ],
             [
              0.6666666666666666,
              "#ed7953"
             ],
             [
              0.7777777777777778,
              "#fb9f3a"
             ],
             [
              0.8888888888888888,
              "#fdca26"
             ],
             [
              1,
              "#f0f921"
             ]
            ],
            "type": "heatmap"
           }
          ],
          "histogram": [
           {
            "marker": {
             "pattern": {
              "fillmode": "overlay",
              "size": 10,
              "solidity": 0.2
             }
            },
            "type": "histogram"
           }
          ],
          "histogram2d": [
           {
            "colorbar": {
             "outlinewidth": 0,
             "ticks": ""
            },
            "colorscale": [
             [
              0,
              "#0d0887"
             ],
             [
              0.1111111111111111,
              "#46039f"
             ],
             [
              0.2222222222222222,
              "#7201a8"
             ],
             [
              0.3333333333333333,
              "#9c179e"
             ],
             [
              0.4444444444444444,
              "#bd3786"
             ],
             [
              0.5555555555555556,
              "#d8576b"
             ],
             [
              0.6666666666666666,
              "#ed7953"
             ],
             [
              0.7777777777777778,
              "#fb9f3a"
             ],
             [
              0.8888888888888888,
              "#fdca26"
             ],
             [
              1,
              "#f0f921"
             ]
            ],
            "type": "histogram2d"
           }
          ],
          "histogram2dcontour": [
           {
            "colorbar": {
             "outlinewidth": 0,
             "ticks": ""
            },
            "colorscale": [
             [
              0,
              "#0d0887"
             ],
             [
              0.1111111111111111,
              "#46039f"
             ],
             [
              0.2222222222222222,
              "#7201a8"
             ],
             [
              0.3333333333333333,
              "#9c179e"
             ],
             [
              0.4444444444444444,
              "#bd3786"
             ],
             [
              0.5555555555555556,
              "#d8576b"
             ],
             [
              0.6666666666666666,
              "#ed7953"
             ],
             [
              0.7777777777777778,
              "#fb9f3a"
             ],
             [
              0.8888888888888888,
              "#fdca26"
             ],
             [
              1,
              "#f0f921"
             ]
            ],
            "type": "histogram2dcontour"
           }
          ],
          "mesh3d": [
           {
            "colorbar": {
             "outlinewidth": 0,
             "ticks": ""
            },
            "type": "mesh3d"
           }
          ],
          "parcoords": [
           {
            "line": {
             "colorbar": {
              "outlinewidth": 0,
              "ticks": ""
             }
            },
            "type": "parcoords"
           }
          ],
          "pie": [
           {
            "automargin": true,
            "type": "pie"
           }
          ],
          "scatter": [
           {
            "fillpattern": {
             "fillmode": "overlay",
             "size": 10,
             "solidity": 0.2
            },
            "type": "scatter"
           }
          ],
          "scatter3d": [
           {
            "line": {
             "colorbar": {
              "outlinewidth": 0,
              "ticks": ""
             }
            },
            "marker": {
             "colorbar": {
              "outlinewidth": 0,
              "ticks": ""
             }
            },
            "type": "scatter3d"
           }
          ],
          "scattercarpet": [
           {
            "marker": {
             "colorbar": {
              "outlinewidth": 0,
              "ticks": ""
             }
            },
            "type": "scattercarpet"
           }
          ],
          "scattergeo": [
           {
            "marker": {
             "colorbar": {
              "outlinewidth": 0,
              "ticks": ""
             }
            },
            "type": "scattergeo"
           }
          ],
          "scattergl": [
           {
            "marker": {
             "colorbar": {
              "outlinewidth": 0,
              "ticks": ""
             }
            },
            "type": "scattergl"
           }
          ],
          "scattermap": [
           {
            "marker": {
             "colorbar": {
              "outlinewidth": 0,
              "ticks": ""
             }
            },
            "type": "scattermap"
           }
          ],
          "scattermapbox": [
           {
            "marker": {
             "colorbar": {
              "outlinewidth": 0,
              "ticks": ""
             }
            },
            "type": "scattermapbox"
           }
          ],
          "scatterpolar": [
           {
            "marker": {
             "colorbar": {
              "outlinewidth": 0,
              "ticks": ""
             }
            },
            "type": "scatterpolar"
           }
          ],
          "scatterpolargl": [
           {
            "marker": {
             "colorbar": {
              "outlinewidth": 0,
              "ticks": ""
             }
            },
            "type": "scatterpolargl"
           }
          ],
          "scatterternary": [
           {
            "marker": {
             "colorbar": {
              "outlinewidth": 0,
              "ticks": ""
             }
            },
            "type": "scatterternary"
           }
          ],
          "surface": [
           {
            "colorbar": {
             "outlinewidth": 0,
             "ticks": ""
            },
            "colorscale": [
             [
              0,
              "#0d0887"
             ],
             [
              0.1111111111111111,
              "#46039f"
             ],
             [
              0.2222222222222222,
              "#7201a8"
             ],
             [
              0.3333333333333333,
              "#9c179e"
             ],
             [
              0.4444444444444444,
              "#bd3786"
             ],
             [
              0.5555555555555556,
              "#d8576b"
             ],
             [
              0.6666666666666666,
              "#ed7953"
             ],
             [
              0.7777777777777778,
              "#fb9f3a"
             ],
             [
              0.8888888888888888,
              "#fdca26"
             ],
             [
              1,
              "#f0f921"
             ]
            ],
            "type": "surface"
           }
          ],
          "table": [
           {
            "cells": {
             "fill": {
              "color": "#EBF0F8"
             },
             "line": {
              "color": "white"
             }
            },
            "header": {
             "fill": {
              "color": "#C8D4E3"
             },
             "line": {
              "color": "white"
             }
            },
            "type": "table"
           }
          ]
         },
         "layout": {
          "annotationdefaults": {
           "arrowcolor": "#2a3f5f",
           "arrowhead": 0,
           "arrowwidth": 1
          },
          "autotypenumbers": "strict",
          "coloraxis": {
           "colorbar": {
            "outlinewidth": 0,
            "ticks": ""
           }
          },
          "colorscale": {
           "diverging": [
            [
             0,
             "#8e0152"
            ],
            [
             0.1,
             "#c51b7d"
            ],
            [
             0.2,
             "#de77ae"
            ],
            [
             0.3,
             "#f1b6da"
            ],
            [
             0.4,
             "#fde0ef"
            ],
            [
             0.5,
             "#f7f7f7"
            ],
            [
             0.6,
             "#e6f5d0"
            ],
            [
             0.7,
             "#b8e186"
            ],
            [
             0.8,
             "#7fbc41"
            ],
            [
             0.9,
             "#4d9221"
            ],
            [
             1,
             "#276419"
            ]
           ],
           "sequential": [
            [
             0,
             "#0d0887"
            ],
            [
             0.1111111111111111,
             "#46039f"
            ],
            [
             0.2222222222222222,
             "#7201a8"
            ],
            [
             0.3333333333333333,
             "#9c179e"
            ],
            [
             0.4444444444444444,
             "#bd3786"
            ],
            [
             0.5555555555555556,
             "#d8576b"
            ],
            [
             0.6666666666666666,
             "#ed7953"
            ],
            [
             0.7777777777777778,
             "#fb9f3a"
            ],
            [
             0.8888888888888888,
             "#fdca26"
            ],
            [
             1,
             "#f0f921"
            ]
           ],
           "sequentialminus": [
            [
             0,
             "#0d0887"
            ],
            [
             0.1111111111111111,
             "#46039f"
            ],
            [
             0.2222222222222222,
             "#7201a8"
            ],
            [
             0.3333333333333333,
             "#9c179e"
            ],
            [
             0.4444444444444444,
             "#bd3786"
            ],
            [
             0.5555555555555556,
             "#d8576b"
            ],
            [
             0.6666666666666666,
             "#ed7953"
            ],
            [
             0.7777777777777778,
             "#fb9f3a"
            ],
            [
             0.8888888888888888,
             "#fdca26"
            ],
            [
             1,
             "#f0f921"
            ]
           ]
          },
          "colorway": [
           "#636efa",
           "#EF553B",
           "#00cc96",
           "#ab63fa",
           "#FFA15A",
           "#19d3f3",
           "#FF6692",
           "#B6E880",
           "#FF97FF",
           "#FECB52"
          ],
          "font": {
           "color": "#2a3f5f"
          },
          "geo": {
           "bgcolor": "white",
           "lakecolor": "white",
           "landcolor": "#E5ECF6",
           "showlakes": true,
           "showland": true,
           "subunitcolor": "white"
          },
          "hoverlabel": {
           "align": "left"
          },
          "hovermode": "closest",
          "mapbox": {
           "style": "light"
          },
          "paper_bgcolor": "white",
          "plot_bgcolor": "#E5ECF6",
          "polar": {
           "angularaxis": {
            "gridcolor": "white",
            "linecolor": "white",
            "ticks": ""
           },
           "bgcolor": "#E5ECF6",
           "radialaxis": {
            "gridcolor": "white",
            "linecolor": "white",
            "ticks": ""
           }
          },
          "scene": {
           "xaxis": {
            "backgroundcolor": "#E5ECF6",
            "gridcolor": "white",
            "gridwidth": 2,
            "linecolor": "white",
            "showbackground": true,
            "ticks": "",
            "zerolinecolor": "white"
           },
           "yaxis": {
            "backgroundcolor": "#E5ECF6",
            "gridcolor": "white",
            "gridwidth": 2,
            "linecolor": "white",
            "showbackground": true,
            "ticks": "",
            "zerolinecolor": "white"
           },
           "zaxis": {
            "backgroundcolor": "#E5ECF6",
            "gridcolor": "white",
            "gridwidth": 2,
            "linecolor": "white",
            "showbackground": true,
            "ticks": "",
            "zerolinecolor": "white"
           }
          },
          "shapedefaults": {
           "line": {
            "color": "#2a3f5f"
           }
          },
          "ternary": {
           "aaxis": {
            "gridcolor": "white",
            "linecolor": "white",
            "ticks": ""
           },
           "baxis": {
            "gridcolor": "white",
            "linecolor": "white",
            "ticks": ""
           },
           "bgcolor": "#E5ECF6",
           "caxis": {
            "gridcolor": "white",
            "linecolor": "white",
            "ticks": ""
           }
          },
          "title": {
           "x": 0.05
          },
          "xaxis": {
           "automargin": true,
           "gridcolor": "white",
           "linecolor": "white",
           "ticks": "",
           "title": {
            "standoff": 15
           },
           "zerolinecolor": "white",
           "zerolinewidth": 2
          },
          "yaxis": {
           "automargin": true,
           "gridcolor": "white",
           "linecolor": "white",
           "ticks": "",
           "title": {
            "standoff": 15
           },
           "zerolinecolor": "white",
           "zerolinewidth": 2
          }
         }
        },
        "title": {
         "text": "Persone che vivono con HIV per Paese (2018)"
        }
       }
      },
      "image/png": "[encoded data removed]"
     },
     "metadata": {},
     "output_type": "display_data"
    },
    {
     "data": {
      "application/vnd.plotly.v1+json": {
       "config": {
        "plotlyServerURL": "https://plot.ly"
       },
       "data": [
        {
         "coloraxis": "coloraxis",
         "customdata": {
          "bdata": "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",
          "dtype": "f8",
          "shape": "133, 3"
         },
         "geo": "geo",
         "hovertemplate": "<b>%{hovertext}</b><br><br>Country=%{location}<br>Living=%{customdata[0]}<br>Cases_15_49=%{customdata[1]}<br>Death_Ratio=%{customdata[2]}<br>Deaths=%{z}<extra></extra>",
         "hovertext": [
          "Afghanistan",
          "Algeria",
          "Angola",
          "Argentina",
          "Armenia",
          "Australia",
          "Bahamas",
          "Bangladesh",
          "Barbados",
          "Belarus",
          "Belize",
          "Benin",
          "Bhutan",
          "Bolivia (Plurinational State of)",
          "Bosnia and Herzegovina",
          "Botswana",
          "Brazil",
          "Bulgaria",
          "Burkina Faso",
          "Burundi",
          "Cabo Verde",
          "Cambodia",
          "Cameroon",
          "Central African Republic",
          "Chad",
          "Chile",
          "Comoros",
          "Congo",
          "Costa Rica",
          "Croatia",
          "Cuba",
          "Czechia",
          "Côte d'Ivoire",
          "Democratic Republic of the Congo",
          "Denmark",
          "Djibouti",
          "Dominican Republic",
          "Ecuador",
          "Egypt",
          "El Salvador",
          "Equatorial Guinea",
          "Eritrea",
          "Estonia",
          "Eswatini",
          "Ethiopia",
          "Finland",
          "France",
          "Gabon",
          "Gambia",
          "Georgia",
          "Germany",
          "Ghana",
          "Guatemala",
          "Guinea",
          "Guinea-Bissau",
          "Guyana",
          "Haiti",
          "Honduras",
          "Hungary",
          "Iceland",
          "Indonesia",
          "Iran (Islamic Republic of)",
          "Ireland",
          "Israel",
          "Italy",
          "Jamaica",
          "Jordan",
          "Kazakhstan",
          "Kenya",
          "Kuwait",
          "Kyrgyzstan",
          "Lao People's Democratic Republic",
          "Latvia",
          "Lebanon",
          "Lesotho",
          "Liberia",
          "Libya",
          "Luxembourg",
          "Madagascar",
          "Malawi",
          "Malaysia",
          "Mali",
          "Mauritania",
          "Mauritius",
          "Mongolia",
          "Montenegro",
          "Morocco",
          "Mozambique",
          "Myanmar",
          "Namibia",
          "Nepal",
          "New Zealand",
          "Nicaragua",
          "Niger",
          "Nigeria",
          "Norway",
          "Oman",
          "Pakistan",
          "Panama",
          "Paraguay",
          "Peru",
          "Philippines",
          "Portugal",
          "Republic of Moldova",
          "Republic of North Macedonia",
          "Romania",
          "Rwanda",
          "Senegal",
          "Serbia",
          "Sierra Leone",
          "Singapore",
          "Slovakia",
          "Slovenia",
          "Somalia",
          "South Africa",
          "South Sudan",
          "Sri Lanka",
          "Sudan",
          "Suriname",
          "Syrian Arab Republic",
          "Tajikistan",
          "Thailand",
          "Togo",
          "Tunisia",
          "Uganda",
          "Ukraine",
          "United Republic of Tanzania",
          "Uruguay",
          "Uzbekistan",
          "Viet Nam",
          "Yemen",
          "Zambia",
          "Zimbabwe"
         ],
         "locationmode": "country names",
         "locations": [
          "Afghanistan",
          "Algeria",
          "Angola",
          "Argentina",
          "Armenia",
          "Australia",
          "Bahamas",
          "Bangladesh",
          "Barbados",
          "Belarus",
          "Belize",
          "Benin",
          "Bhutan",
          "Bolivia (Plurinational State of)",
          "Bosnia and Herzegovina",
          "Botswana",
          "Brazil",
          "Bulgaria",
          "Burkina Faso",
          "Burundi",
          "Cabo Verde",
          "Cambodia",
          "Cameroon",
          "Central African Republic",
          "Chad",
          "Chile",
          "Comoros",
          "Congo",
          "Costa Rica",
          "Croatia",
          "Cuba",
          "Czechia",
          "Côte d'Ivoire",
          "Democratic Republic of the Congo",
          "Denmark",
          "Djibouti",
          "Dominican Republic",
          "Ecuador",
          "Egypt",
          "El Salvador",
          "Equatorial Guinea",
          "Eritrea",
          "Estonia",
          "Eswatini",
          "Ethiopia",
          "Finland",
          "France",
          "Gabon",
          "Gambia",
          "Georgia",
          "Germany",
          "Ghana",
          "Guatemala",
          "Guinea",
          "Guinea-Bissau",
          "Guyana",
          "Haiti",
          "Honduras",
          "Hungary",
          "Iceland",
          "Indonesia",
          "Iran (Islamic Republic of)",
          "Ireland",
          "Israel",
          "Italy",
          "Jamaica",
          "Jordan",
          "Kazakhstan",
          "Kenya",
          "Kuwait",
          "Kyrgyzstan",
          "Lao People's Democratic Republic",
          "Latvia",
          "Lebanon",
          "Lesotho",
          "Liberia",
          "Libya",
          "Luxembourg",
          "Madagascar",
          "Malawi",
          "Malaysia",
          "Mali",
          "Mauritania",
          "Mauritius",
          "Mongolia",
          "Montenegro",
          "Morocco",
          "Mozambique",
          "Myanmar",
          "Namibia",
          "Nepal",
          "New Zealand",
          "Nicaragua",
          "Niger",
          "Nigeria",
          "Norway",
          "Oman",
          "Pakistan",
          "Panama",
          "Paraguay",
          "Peru",
          "Philippines",
          "Portugal",
          "Republic of Moldova",
          "Republic of North Macedonia",
          "Romania",
          "Rwanda",
          "Senegal",
          "Serbia",
          "Sierra Leone",
          "Singapore",
          "Slovakia",
          "Slovenia",
          "Somalia",
          "South Africa",
          "South Sudan",
          "Sri Lanka",
          "Sudan",
          "Suriname",
          "Syrian Arab Republic",
          "Tajikistan",
          "Thailand",
          "Togo",
          "Tunisia",
          "Uganda",
          "Ukraine",
          "United Republic of Tanzania",
          "Uruguay",
          "Uzbekistan",
          "Viet Nam",
          "Yemen",
          "Zambia",
          "Zimbabwe"
         ],
         "name": "",
         "type": "choropleth",
         "z": {
          "bdata": "AAAAAABAf0AAAAAAAABpQAAAAAAAWMtAAAAAAACQmkAAAAAAAABpQAAAAAAAAGlAAAAAAAAAaUAAAAAAACCCQAAAAAAAAFlAAAAAAABAf0AAAAAAAABpQAAAAAAAMKFAAAAAAAAAWUAAAAAAAPCEQAAAAAAAAFlAAAAAAADAskAAAAAAAEzNQAAAAAAAAFlAAAAAAADIqUAAAAAAALCdQAAAAAAAAFlAAAAAAABQlEAAAAAAAJTRQAAAAAAAwLJAAAAAAAA4qEAAAAAAAHCCQAAAAAAAAFlAAAAAAABAr0AAAAAAAEB/QAAAAAAAAFlAAAAAAABAf0AAAAAAAABZQAAAAAAAQM9AAAAAAABkyUAAAAAAAABZQAAAAAAAQH9AAAAAAADAkkAAAAAAAGCDQAAAAAAAQH9AAAAAAADghUAAAAAAACCcQAAAAAAAQH9AAAAAAAAAWUAAAAAAAMCiQAAAAAAAfMVAAAAAAAAAWUAAAAAAAEB/QAAAAAAAwJJAAAAAAACgjkAAAAAAAEB/QAAAAAAAQH9AAAAAAABYy0AAAAAAADChQAAAAAAAzLBAAAAAAAAgnEAAAAAAAABpQAAAAAAAGKVAAAAAAABgiEAAAAAAAABZQAAAAAAAAFlAAAAAAACO4kAAAAAAAFCkQAAAAAAAAFlAAAAAAAAAWUAAAAAAADCGQAAAAAAAcJdAAAAAAAAAWUAAAAAAAEB/QAAAAAAAathAAAAAAAAAWUAAAAAAAABpQAAAAAAAQH9AAAAAAAAAWUAAAAAAAABZQAAAAAAA1LdAAAAAAAAgnEAAAAAAAABpQAAAAAAAAFlAAAAAAACQmkAAAAAAAGTJQAAAAAAAUKRAAAAAAABkuUAAAAAAAEB/QAAAAAAAEINAAAAAAAAAWUAAAAAAAABZQAAAAAAAQH9AAAAAAABe6kAAAAAAAHi+QAAAAAAAGKVAAAAAAABwjEAAAAAAAABZQAAAAAAAAGlAAAAAAADAkkAAAAAAAOHpQAAAAAAAAFlAAAAAAAAAWUAAAAAAAAC5QAAAAAAAQH9AAAAAAACAhkAAAAAAAECPQAAAAAAAwJJAAAAAAABAf0AAAAAAANCBQAAAAAAAAFlAAAAAAAAAaUAAAAAAAKimQAAAAAAAUJRAAAAAAAAAWUAAAAAAAGigQAAAAAAAAFlAAAAAAAAAWUAAAAAAAABZQAAAAAAAMIZAAAAAAIBV8UAAAAAAAFbDQAAAAAAAAGlAAAAAAACopkAAAAAAAABZQAAAAAAAAFlAAAAAAABAf0AAAAAAAJTRQAAAAAAAsK1AAAAAAAAAWUAAAAAAAHbWQAAAAAAA1LdAAAAAAABw10AAAAAAAABpQAAAAAAAUJRAAAAAAABcskAAAAAAAEB/QAAAAAAAmtBAAAAAAAB81UA=",
          "dtype": "f8"
         }
        }
       ],
       "layout": {
        "coloraxis": {
         "colorbar": {
          "title": {
           "text": "Deaths"
          }
         },
         "colorscale": [
          [
           0,
           "rgb(255,245,240)"
          ],
          [
           0.125,
           "rgb(254,224,210)"
          ],
          [
           0.25,
           "rgb(252,187,161)"
          ],
          [
           0.375,
           "rgb(252,146,114)"
          ],
          [
           0.5,
           "rgb(251,106,74)"
          ],
          [
           0.625,
           "rgb(239,59,44)"
          ],
          [
           0.75,
           "rgb(203,24,29)"
          ],
          [
           0.875,
           "rgb(165,15,21)"
          ],
          [
           1,
           "rgb(103,0,13)"
          ]
         ]
        },
        "geo": {
         "center": {},
         "domain": {
          "x": [
           0,
           1
          ],
          "y": [
           0,
           1
          ]
         },
         "scope": "world"
        },
        "legend": {
         "tracegroupgap": 0
        },
        "template": {
         "data": {
          "bar": [
           {
            "error_x": {
             "color": "#2a3f5f"
            },
            "error_y": {
             "color": "#2a3f5f"
            },
            "marker": {
             "line": {
              "color": "#E5ECF6",
              "width": 0.5
             },
             "pattern": {
              "fillmode": "overlay",
              "size": 10,
              "solidity": 0.2
             }
            },
            "type": "bar"
           }
          ],
          "barpolar": [
           {
            "marker": {
             "line": {
              "color": "#E5ECF6",
              "width": 0.5
             },
             "pattern": {
              "fillmode": "overlay",
              "size": 10,
              "solidity": 0.2
             }
            },
            "type": "barpolar"
           }
          ],
          "carpet": [
           {
            "aaxis": {
             "endlinecolor": "#2a3f5f",
             "gridcolor": "white",
             "linecolor": "white",
             "minorgridcolor": "white",
             "startlinecolor": "#2a3f5f"
            },
            "baxis": {
             "endlinecolor": "#2a3f5f",
             "gridcolor": "white",
             "linecolor": "white",
             "minorgridcolor": "white",
             "startlinecolor": "#2a3f5f"
            },
            "type": "carpet"
           }
          ],
          "choropleth": [
           {
            "colorbar": {
             "outlinewidth": 0,
             "ticks": ""
            },
            "type": "choropleth"
           }
          ],
          "contour": [
           {
            "colorbar": {
             "outlinewidth": 0,
             "ticks": ""
            },
            "colorscale": [
             [
              0,
              "#0d0887"
             ],
             [
              0.1111111111111111,
              "#46039f"
             ],
             [
              0.2222222222222222,
              "#7201a8"
             ],
             [
              0.3333333333333333,
              "#9c179e"
             ],
             [
              0.4444444444444444,
              "#bd3786"
             ],
             [
              0.5555555555555556,
              "#d8576b"
             ],
             [
              0.6666666666666666,
              "#ed7953"
             ],
             [
              0.7777777777777778,
              "#fb9f3a"
             ],
             [
              0.8888888888888888,
              "#fdca26"
             ],
             [
              1,
              "#f0f921"
             ]
            ],
            "type": "contour"
           }
          ],
          "contourcarpet": [
           {
            "colorbar": {
             "outlinewidth": 0,
             "ticks": ""
            },
            "type": "contourcarpet"
           }
          ],
          "heatmap": [
           {
            "colorbar": {
             "outlinewidth": 0,
             "ticks": ""
            },
            "colorscale": [
             [
              0,
              "#0d0887"
             ],
             [
              0.1111111111111111,
              "#46039f"
             ],
             [
              0.2222222222222222,
              "#7201a8"
             ],
             [
              0.3333333333333333,
              "#9c179e"
             ],
             [
              0.4444444444444444,
              "#bd3786"
             ],
             [
              0.5555555555555556,
              "#d8576b"
             ],
             [
              0.6666666666666666,
              "#ed7953"
             ],
             [
              0.7777777777777778,
              "#fb9f3a"
             ],
             [
              0.8888888888888888,
              "#fdca26"
             ],
             [
              1,
              "#f0f921"
             ]
            ],
            "type": "heatmap"
           }
          ],
          "histogram": [
           {
            "marker": {
             "pattern": {
              "fillmode": "overlay",
              "size": 10,
              "solidity": 0.2
             }
            },
            "type": "histogram"
           }
          ],
          "histogram2d": [
           {
            "colorbar": {
             "outlinewidth": 0,
             "ticks": ""
            },
            "colorscale": [
             [
              0,
              "#0d0887"
             ],
             [
              0.1111111111111111,
              "#46039f"
             ],
             [
              0.2222222222222222,
              "#7201a8"
             ],
             [
              0.3333333333333333,
              "#9c179e"
             ],
             [
              0.4444444444444444,
              "#bd3786"
             ],
             [
              0.5555555555555556,
              "#d8576b"
             ],
             [
              0.6666666666666666,
              "#ed7953"
             ],
             [
              0.7777777777777778,
              "#fb9f3a"
             ],
             [
              0.8888888888888888,
              "#fdca26"
             ],
             [
              1,
              "#f0f921"
             ]
            ],
            "type": "histogram2d"
           }
          ],
          "histogram2dcontour": [
           {
            "colorbar": {
             "outlinewidth": 0,
             "ticks": ""
            },
            "colorscale": [
             [
              0,
              "#0d0887"
             ],
             [
              0.1111111111111111,
              "#46039f"
             ],
             [
              0.2222222222222222,
              "#7201a8"
             ],
             [
              0.3333333333333333,
              "#9c179e"
             ],
             [
              0.4444444444444444,
              "#bd3786"
             ],
             [
              0.5555555555555556,
              "#d8576b"
             ],
             [
              0.6666666666666666,
              "#ed7953"
             ],
             [
              0.7777777777777778,
              "#fb9f3a"
             ],
             [
              0.8888888888888888,
              "#fdca26"
             ],
             [
              1,
              "#f0f921"
             ]
            ],
            "type": "histogram2dcontour"
           }
          ],
          "mesh3d": [
           {
            "colorbar": {
             "outlinewidth": 0,
             "ticks": ""
            },
            "type": "mesh3d"
           }
          ],
          "parcoords": [
           {
            "line": {
             "colorbar": {
              "outlinewidth": 0,
              "ticks": ""
             }
            },
            "type": "parcoords"
           }
          ],
          "pie": [
           {
            "automargin": true,
            "type": "pie"
           }
          ],
          "scatter": [
           {
            "fillpattern": {
             "fillmode": "overlay",
             "size": 10,
             "solidity": 0.2
            },
            "type": "scatter"
           }
          ],
          "scatter3d": [
           {
            "line": {
             "colorbar": {
              "outlinewidth": 0,
              "ticks": ""
             }
            },
            "marker": {
             "colorbar": {
              "outlinewidth": 0,
              "ticks": ""
             }
            },
            "type": "scatter3d"
           }
          ],
          "scattercarpet": [
           {
            "marker": {
             "colorbar": {
              "outlinewidth": 0,
              "ticks": ""
             }
            },
            "type": "scattercarpet"
           }
          ],
          "scattergeo": [
           {
            "marker": {
             "colorbar": {
              "outlinewidth": 0,
              "ticks": ""
             }
            },
            "type": "scattergeo"
           }
          ],
          "scattergl": [
           {
            "marker": {
             "colorbar": {
              "outlinewidth": 0,
              "ticks": ""
             }
            },
            "type": "scattergl"
           }
          ],
          "scattermap": [
           {
            "marker": {
             "colorbar": {
              "outlinewidth": 0,
              "ticks": ""
             }
            },
            "type": "scattermap"
           }
          ],
          "scattermapbox": [
           {
            "marker": {
             "colorbar": {
              "outlinewidth": 0,
              "ticks": ""
             }
            },
            "type": "scattermapbox"
           }
          ],
          "scatterpolar": [
           {
            "marker": {
             "colorbar": {
              "outlinewidth": 0,
              "ticks": ""
             }
            },
            "type": "scatterpolar"
           }
          ],
          "scatterpolargl": [
           {
            "marker": {
             "colorbar": {
              "outlinewidth": 0,
              "ticks": ""
             }
            },
            "type": "scatterpolargl"
           }
          ],
          "scatterternary": [
           {
            "marker": {
             "colorbar": {
              "outlinewidth": 0,
              "ticks": ""
             }
            },
            "type": "scatterternary"
           }
          ],
          "surface": [
           {
            "colorbar": {
             "outlinewidth": 0,
             "ticks": ""
            },
            "colorscale": [
             [
              0,
              "#0d0887"
             ],
             [
              0.1111111111111111,
              "#46039f"
             ],
             [
              0.2222222222222222,
              "#7201a8"
             ],
             [
              0.3333333333333333,
              "#9c179e"
             ],
             [
              0.4444444444444444,
              "#bd3786"
             ],
             [
              0.5555555555555556,
              "#d8576b"
             ],
             [
              0.6666666666666666,
              "#ed7953"
             ],
             [
              0.7777777777777778,
              "#fb9f3a"
             ],
             [
              0.8888888888888888,
              "#fdca26"
             ],
             [
              1,
              "#f0f921"
             ]
            ],
            "type": "surface"
           }
          ],
          "table": [
           {
            "cells": {
             "fill": {
              "color": "#EBF0F8"
             },
             "line": {
              "color": "white"
             }
            },
            "header": {
             "fill": {
              "color": "#C8D4E3"
             },
             "line": {
              "color": "white"
             }
            },
            "type": "table"
           }
          ]
         },
         "layout": {
          "annotationdefaults": {
           "arrowcolor": "#2a3f5f",
           "arrowhead": 0,
           "arrowwidth": 1
          },
          "autotypenumbers": "strict",
          "coloraxis": {
           "colorbar": {
            "outlinewidth": 0,
            "ticks": ""
           }
          },
          "colorscale": {
           "diverging": [
            [
             0,
             "#8e0152"
            ],
            [
             0.1,
             "#c51b7d"
            ],
            [
             0.2,
             "#de77ae"
            ],
            [
             0.3,
             "#f1b6da"
            ],
            [
             0.4,
             "#fde0ef"
            ],
            [
             0.5,
             "#f7f7f7"
            ],
            [
             0.6,
             "#e6f5d0"
            ],
            [
             0.7,
             "#b8e186"
            ],
            [
             0.8,
             "#7fbc41"
            ],
            [
             0.9,
             "#4d9221"
            ],
            [
             1,
             "#276419"
            ]
           ],
           "sequential": [
            [
             0,
             "#0d0887"
            ],
            [
             0.1111111111111111,
             "#46039f"
            ],
            [
             0.2222222222222222,
             "#7201a8"
            ],
            [
             0.3333333333333333,
             "#9c179e"
            ],
            [
             0.4444444444444444,
             "#bd3786"
            ],
            [
             0.5555555555555556,
             "#d8576b"
            ],
            [
             0.6666666666666666,
             "#ed7953"
            ],
            [
             0.7777777777777778,
             "#fb9f3a"
            ],
            [
             0.8888888888888888,
             "#fdca26"
            ],
            [
             1,
             "#f0f921"
            ]
           ],
           "sequentialminus": [
            [
             0,
             "#0d0887"
            ],
            [
             0.1111111111111111,
             "#46039f"
            ],
            [
             0.2222222222222222,
             "#7201a8"
            ],
            [
             0.3333333333333333,
             "#9c179e"
            ],
            [
             0.4444444444444444,
             "#bd3786"
            ],
            [
             0.5555555555555556,
             "#d8576b"
            ],
            [
             0.6666666666666666,
             "#ed7953"
            ],
            [
             0.7777777777777778,
             "#fb9f3a"
            ],
            [
             0.8888888888888888,
             "#fdca26"
            ],
            [
             1,
             "#f0f921"
            ]
           ]
          },
          "colorway": [
           "#636efa",
           "#EF553B",
           "#00cc96",
           "#ab63fa",
           "#FFA15A",
           "#19d3f3",
           "#FF6692",
           "#B6E880",
           "#FF97FF",
           "#FECB52"
          ],
          "font": {
           "color": "#2a3f5f"
          },
          "geo": {
           "bgcolor": "white",
           "lakecolor": "white",
           "landcolor": "#E5ECF6",
           "showlakes": true,
           "showland": true,
           "subunitcolor": "white"
          },
          "hoverlabel": {
           "align": "left"
          },
          "hovermode": "closest",
          "mapbox": {
           "style": "light"
          },
          "paper_bgcolor": "white",
          "plot_bgcolor": "#E5ECF6",
          "polar": {
           "angularaxis": {
            "gridcolor": "white",
            "linecolor": "white",
            "ticks": ""
           },
           "bgcolor": "#E5ECF6",
           "radialaxis": {
            "gridcolor": "white",
            "linecolor": "white",
            "ticks": ""
           }
          },
          "scene": {
           "xaxis": {
            "backgroundcolor": "#E5ECF6",
            "gridcolor": "white",
            "gridwidth": 2,
            "linecolor": "white",
            "showbackground": true,
            "ticks": "",
            "zerolinecolor": "white"
           },
           "yaxis": {
            "backgroundcolor": "#E5ECF6",
            "gridcolor": "white",
            "gridwidth": 2,
            "linecolor": "white",
            "showbackground": true,
            "ticks": "",
            "zerolinecolor": "white"
           },
           "zaxis": {
            "backgroundcolor": "#E5ECF6",
            "gridcolor": "white",
            "gridwidth": 2,
            "linecolor": "white",
            "showbackground": true,
            "ticks": "",
            "zerolinecolor": "white"
           }
          },
          "shapedefaults": {
           "line": {
            "color": "#2a3f5f"
           }
          },
          "ternary": {
           "aaxis": {
            "gridcolor": "white",
            "linecolor": "white",
            "ticks": ""
           },
           "baxis": {
            "gridcolor": "white",
            "linecolor": "white",
            "ticks": ""
           },
           "bgcolor": "#E5ECF6",
           "caxis": {
            "gridcolor": "white",
            "linecolor": "white",
            "ticks": ""
           }
          },
          "title": {
           "x": 0.05
          },
          "xaxis": {
           "automargin": true,
           "gridcolor": "white",
           "linecolor": "white",
           "ticks": "",
           "title": {
            "standoff": 15
           },
           "zerolinecolor": "white",
           "zerolinewidth": 2
          },
          "yaxis": {
           "automargin": true,
           "gridcolor": "white",
           "linecolor": "white",
           "ticks": "",
           "title": {
            "standoff": 15
           },
           "zerolinecolor": "white",
           "zerolinewidth": 2
          }
         }
        },
        "title": {
         "text": "Decessi per HIV per Paese (2018)"
        }
       }
      },
      "image/png": "[encoded data removed]"
     },
     "metadata": {},
     "output_type": "display_data"
    },
    {
     "data": {
      "application/vnd.plotly.v1+json": {
       "config": {
        "plotlyServerURL": "https://plot.ly"
       },
       "data": [
        {
         "coloraxis": "coloraxis",
         "customdata": {
          "bdata": "AAAAAAAgvEAAAAAAAEB/QHIcx3EcxxtAAAAAAABAz0AAAAAAAABpQAAAAAAAAPQ/AAAAAEAkFEEAAAAAAFjLQPnggw8++BBAAAAAAAAXAUEAAAAAAJCaQNu2bdu2bfM/AAAAAABYq0AAAAAAAABpQLdt27Zt2xZAAAAAAABY20AAAAAAAABpQLdt27Zt2+Y/AAAAAABwt0AAAAAAAABpQKuqqqqqqgpAAAAAAABYy0AAAAAAACCCQCRJkiRJkhBAAAAAAABwp0AAAAAAAABZQKuqqqqqqgpAAAAAAABe2kAAAAAAAEB/QBLaS2gvof0/AAAAAAAks0AAAAAAAABpQBW8nIKXUxBAAAAAAIDS8UAAAAAAADChQMGBAwcOHAhAAAAAAABQlEAAAAAAAABZQE/sxE7sxB5AAAAAAAB81UAAAAAAAPCEQF100UUXXQhAAAAAAABAf0AAAAAAAABZQAAAAAAAADRAAAAAAECVFkEAAAAAAMCyQBtMkc+6wfQ/AAAAAEB3K0EAAAAAAEzNQKuqqqqqqvo/AAAAAABYq0AAAAAAAABZQLdt27Zt2wZAAAAAAABw90AAAAAAAMipQAEAAAAAgAtAAAAAAAAF9EAAAAAAALCdQInalahdiQJAAAAAAADAokAAAAAAAABZQKqqqqqqqhBAAAAAAIDS8UAAAAAAAFCUQOTHjx8/fvw/AAAAAMB6IEEAAAAAAJTRQKuqqqqqqgpAAAAAAADb+kAAAAAAAMCyQHXRRRdddBFAAAAAAABM/UAAAAAAADioQKuqqqqqqgRAAAAAAIBV8UAAAAAAAHCCQO5ST8Zvl+o/AAAAAACIA0EAAAAAAAD4fwAAAAAAAPh/AAAAAAAAaUAAAAAAAABZQAAAAAAAAElAAAAAAIC69UAAAAAAAECvQCD96Ec/+hFAAAAAAABMzUAAAAAAAEB/QKuqqqqqqgpAAAAAAAAAmUAAAAAAAABZQAAAAAAAABlAAAAAAABG3kAAAAAAAEB/QM4555xzzvk/AAAAAAAwsUAAAAAAAABZQC+66KKLLgJAAAAAAIATHEEAAAAAAEDPQL3pTW960wtAAAAAAEB3G0EAAAAAAGTJQMdxHMdxHAdAAAAAAAA4uEAAAAAAAABZQM4555xzzvk/AAAAAAAwwUAAAAAAAEB/QLrooosuuhZAAAAAAAAX8UAAAAAAAMCSQNy2bdu2bfs/AAAAAAB85UAAAAAAAGCDQIwuuuiii/Y/AAAAAAB81UAAAAAAAEB/QC+66KKLLgJAAAAAAABq2EAAAAAAAOCFQGdmZmZmZgZAAAAAAABG7kAAAAAAACCcQDrnnHPOOQdAAAAAAACU0UAAAAAAAEB/QI7jOI7jOAZAAAAAAADovEAAAAAAAABZQPJZN5gin/U/AAAAAICiCUEAAAAAAMCiQJIkSZIkSfI/AAAAAKAOJUEAAAAAAHzFQJhrB+bagfk/AAAAAABAr0AAAAAAAABZQAAAAAAAAARAAAAAAAD5BUEAAAAAAEB/QHIcx3Ecx9E/AAAAAADh6UAAAAAAAMCSQDXBeCv7HAJAAAAAAABk2UAAAAAAAKCOQHZiJ3ZiJw5AAAAAAABcwkAAAAAAAEB/QPWdjfrORhVAAAAAAIA99UAAAAAAAEB/QLxAJsULZOI/AAAAAEAkFEEAAAAAAFjLQPnggw8++BBAAAAAAADz5kAAAAAAADChQAticgUxuRJAAAAAAABM/UAAAAAAAMywQKuqqqqqqgxAAAAAAAB85UAAAAAAACCcQF100UUXXRBAAAAAAAAEwEAAAAAAAABpQIPzMTgfgwNAAAAAAACIA0EAAAAAABilQAAAAAAAAPs/AAAAAAB21kAAAAAAAGCIQLOQhSxkIQtAAAAAAADorEAAAAAAAABZQPJZN5ginwVAAAAAAABAf0AAAAAAAABZQAAAAAAAADRAAAAAAACII0EAAAAAAI7iQAAAAAAAwBdAAAAAAADJ7UAAAAAAAFCkQKPN+xSXDBFAAAAAAAAgvEAAAAAAAABZQI7jOI7jOPY/AAAAAACUwUAAAAAAAABZQHIcx3Ecx/E/AAAAAAC9/0AAAAAAADCGQKEXeqEXeuE/AAAAAACI40AAAAAAAHCXQAAAAAAAAA5AAAAAAABM3UAAAAAAAAD4fwAAAAAAAPh/AAAAAABAf0AAAAAAAABZQAAAAAAAADRAAAAAAABk2UAAAAAAAEB/QE/sxE7sxP4/AAAAAABqOEEAAAAAAGrYQAAAAAAAAPk/AAAAAAAAhEAAAAAAAABZQAAAAAAAQC9AAAAAAACawEAAAAAAAABpQNPS0tLS0gJAAAAAAABwx0AAAAAAAEB/QKqqqqqqqhBAAAAAAAC0tEAAAAAAAABZQK7sc0hNMP4/AAAAAACIo0AAAAAAAABZQAAAAAAAABBAAAAAAIDAFEEAAAAAANS3QLS0tLS0tPw/AAAAAAAL40AAAAAAACCcQGMndmIndhJAAAAAAAD4wUAAAAAAAABpQBaykIUsZAFAAAAAAADAkkAAAAAAAABZQKqqqqqqqiBAAAAAAAAL40AAAAAAAJCaQPmWb/mWbxFAAAAAAICELkEAAAAAAGTJQM3MzMzMzPQ/AAAAAIA99UAAAAAAAFCkQFuHfrN16AdAAAAAAIBPAkEAAAAAAGS5QFZVVVVVVRFAAAAAAADgtUAAAAAAAEB/QLdt27Zt2yFAAAAAAABkyUAAAAAAABCDQE/sxE7sxBJAAAAAAIATDEEAAAAAAAD4fwAAAAAAAPh/AAAAAADAgkAAAAAAAABZQKqqqqqqqjBAAAAAAABAf0AAAAAAAABZQAAAAAAAADRAAAAAAACC1EAAAAAAAEB/QMMwDMMwDANAAAAAAODIQEEAAAAAAF7qQKOLLrroogNAAAAAAABMDUEAAAAAAHi+QAAAAAAAAApAAAAAAABqCEEAAAAAABilQJqZmZmZmfU/AAAAAABM3UAAAAAAAHCMQERERERERAhAAAAAAAAgrEAAAAAAAABZQI7jOI7jOAZAAAAAAABcwkAAAAAAAABpQMTkCmJyBQFAAAAAAACU4UAAAAAAAMCSQKuqqqqqqgpAAAAAAOD9PEEAAAAAAOHpQA7lNZTXUAZAAAAAAACotkAAAAAAAABZQBphuacRlvs/AAAAAAAAqUAAAAAAAABZQAAAAAAAAAlAAAAAAACIA0EAAAAAAAC5QAAAAAAAABBAAAAAAABk2UAAAAAAAEB/QE/sxE7sxP4/AAAAAAD55UAAAAAAAAD4fwAAAAAAAPh/AAAAAACC1EAAAAAAAICGQNy2bdu2bQtAAAAAAIBJ80AAAAAAAECPQIKodGTPQPQ/AAAAAIDM8kAAAAAAAMCSQIK9Y2pg7/g/AAAAAAAF5EAAAAAAAEB/QIPzMTgfg/M/AAAAAACa0EAAAAAAANCBQNPS0tLS0gpAAAAAAABAf0AAAAAAAABZQAAAAAAAADRAAAAAAACU0UAAAAAAAABpQHIcx3Ecx/E/AAAAAADbCkEAAAAAAKimQBdddNFFF/U/AAAAAACC5EAAAAAAAFCUQDEMwzAMwwhAAAAAAABwp0AAAAAAAABZQKuqqqqqqgpAAAAAAAAX8UAAAAAAAGigQAAAAAAAAAhAAAAAAADcvkAAAAAAAABZQIKodGTPQPQ/AAAAAADAkkAAAAAAAABZQKqqqqqqqiBAAAAAAAAA+H8AAAAAAABZQAAAAAAAAPh/AAAAAAB8xUAAAAAAADCGQNFFF1100RlAAAAAAIhfXUEAAAAAgFXxQKcG9o6pge0/AAAAAIAxB0EAAAAAAFbDQHkN5TWU1xRAAAAAAIBPAkEAAAAAAAD4fwAAAAAAAPh/AAAAAABYq0AAAAAAAABpQLdt27Zt2xZAAAAAAADP7EAAAAAAAKimQD22Img4qRNAAAAAAADgtUAAAAAAAABZQCRJkiRJkvw/AAAAAACghEAAAAAAAABZQE422WSTTS5AAAAAAABkyUAAAAAAAEB/QE/sxE7sxA5AAAAAAABMHUEAAAAAAJTRQAAAAAAAAA5AAAAAAADb+kAAAAAAALCtQKOLLrroogtAAAAAAADgpUAAAAAAAABZQCRJkiRJkgxAAAAAAMBcNUEAAAAAAHbWQJIkSZIkSfo/AAAAAABMDUEAAAAAANS3QFVVVVVVVQRAAAAAAABqOEEAAAAAAHDXQAAAAAAAAPg/AAAAAABYy0AAAAAAAABpQLdt27Zt2/Y/AAAAAABk6UAAAAAAAFCUQAAAAAAAAARAAAAAAIATDEEAAAAAAFyyQIUsZCELWQBAAAAAAAB8xUAAAAAAAEB/QC+66KKLLhJAAAAAAIBPMkEAAAAAAJrQQKqqqqqqqvY/AAAAACDWM0EAAAAAAHzVQDuxEzuxE/s/",
          "dtype": "f8",
          "shape": "138, 3"
         },
         "geo": "geo",
         "hovertemplate": "<b>%{hovertext}</b><br><br>Country=%{location}<br>Living=%{customdata[0]}<br>Deaths=%{customdata[1]}<br>Death_Ratio=%{customdata[2]}<br>Cases_15_49=%{z}<extra></extra>",
         "hovertext": [
          "Afghanistan",
          "Algeria",
          "Angola",
          "Argentina",
          "Armenia",
          "Australia",
          "Bahamas",
          "Bangladesh",
          "Barbados",
          "Belarus",
          "Belize",
          "Benin",
          "Bhutan",
          "Bolivia (Plurinational State of)",
          "Bosnia and Herzegovina",
          "Botswana",
          "Brazil",
          "Bulgaria",
          "Burkina Faso",
          "Burundi",
          "Cabo Verde",
          "Cambodia",
          "Cameroon",
          "Central African Republic",
          "Chad",
          "Chile",
          "Colombia",
          "Comoros",
          "Congo",
          "Costa Rica",
          "Croatia",
          "Cuba",
          "Czechia",
          "Côte d'Ivoire",
          "Democratic Republic of the Congo",
          "Denmark",
          "Djibouti",
          "Dominican Republic",
          "Ecuador",
          "Egypt",
          "El Salvador",
          "Equatorial Guinea",
          "Eritrea",
          "Estonia",
          "Eswatini",
          "Ethiopia",
          "Finland",
          "France",
          "Gabon",
          "Gambia",
          "Georgia",
          "Germany",
          "Ghana",
          "Guatemala",
          "Guinea",
          "Guinea-Bissau",
          "Guyana",
          "Haiti",
          "Honduras",
          "Hungary",
          "Iceland",
          "Indonesia",
          "Iran (Islamic Republic of)",
          "Ireland",
          "Israel",
          "Italy",
          "Jamaica",
          "Japan",
          "Jordan",
          "Kazakhstan",
          "Kenya",
          "Kuwait",
          "Kyrgyzstan",
          "Lao People's Democratic Republic",
          "Latvia",
          "Lebanon",
          "Lesotho",
          "Liberia",
          "Libya",
          "Luxembourg",
          "Madagascar",
          "Malawi",
          "Malaysia",
          "Mali",
          "Mauritania",
          "Mauritius",
          "Mexico",
          "Mongolia",
          "Montenegro",
          "Morocco",
          "Mozambique",
          "Myanmar",
          "Namibia",
          "Nepal",
          "New Zealand",
          "Nicaragua",
          "Niger",
          "Nigeria",
          "Norway",
          "Oman",
          "Pakistan",
          "Panama",
          "Papua New Guinea",
          "Paraguay",
          "Peru",
          "Philippines",
          "Portugal",
          "Republic of Moldova",
          "Republic of North Macedonia",
          "Romania",
          "Rwanda",
          "Senegal",
          "Serbia",
          "Sierra Leone",
          "Singapore",
          "Slovakia",
          "Slovenia",
          "Somalia",
          "South Africa",
          "South Sudan",
          "Spain",
          "Sri Lanka",
          "Sudan",
          "Suriname",
          "Syrian Arab Republic",
          "Tajikistan",
          "Thailand",
          "Togo",
          "Tunisia",
          "Uganda",
          "Ukraine",
          "United Republic of Tanzania",
          "Uruguay",
          "Uzbekistan",
          "Viet Nam",
          "Yemen",
          "Zambia",
          "Zimbabwe"
         ],
         "locationmode": "country names",
         "locations": [
          "Afghanistan",
          "Algeria",
          "Angola",
          "Argentina",
          "Armenia",
          "Australia",
          "Bahamas",
          "Bangladesh",
          "Barbados",
          "Belarus",
          "Belize",
          "Benin",
          "Bhutan",
          "Bolivia (Plurinational State of)",
          "Bosnia and Herzegovina",
          "Botswana",
          "Brazil",
          "Bulgaria",
          "Burkina Faso",
          "Burundi",
          "Cabo Verde",
          "Cambodia",
          "Cameroon",
          "Central African Republic",
          "Chad",
          "Chile",
          "Colombia",
          "Comoros",
          "Congo",
          "Costa Rica",
          "Croatia",
          "Cuba",
          "Czechia",
          "Côte d'Ivoire",
          "Democratic Republic of the Congo",
          "Denmark",
          "Djibouti",
          "Dominican Republic",
          "Ecuador",
          "Egypt",
          "El Salvador",
          "Equatorial Guinea",
          "Eritrea",
          "Estonia",
          "Eswatini",
          "Ethiopia",
          "Finland",
          "France",
          "Gabon",
          "Gambia",
          "Georgia",
          "Germany",
          "Ghana",
          "Guatemala",
          "Guinea",
          "Guinea-Bissau",
          "Guyana",
          "Haiti",
          "Honduras",
          "Hungary",
          "Iceland",
          "Indonesia",
          "Iran (Islamic Republic of)",
          "Ireland",
          "Israel",
          "Italy",
          "Jamaica",
          "Japan",
          "Jordan",
          "Kazakhstan",
          "Kenya",
          "Kuwait",
          "Kyrgyzstan",
          "Lao People's Democratic Republic",
          "Latvia",
          "Lebanon",
          "Lesotho",
          "Liberia",
          "Libya",
          "Luxembourg",
          "Madagascar",
          "Malawi",
          "Malaysia",
          "Mali",
          "Mauritania",
          "Mauritius",
          "Mexico",
          "Mongolia",
          "Montenegro",
          "Morocco",
          "Mozambique",
          "Myanmar",
          "Namibia",
          "Nepal",
          "New Zealand",
          "Nicaragua",
          "Niger",
          "Nigeria",
          "Norway",
          "Oman",
          "Pakistan",
          "Panama",
          "Papua New Guinea",
          "Paraguay",
          "Peru",
          "Philippines",
          "Portugal",
          "Republic of Moldova",
          "Republic of North Macedonia",
          "Romania",
          "Rwanda",
          "Senegal",
          "Serbia",
          "Sierra Leone",
          "Singapore",
          "Slovakia",
          "Slovenia",
          "Somalia",
          "South Africa",
          "South Sudan",
          "Spain",
          "Sri Lanka",
          "Sudan",
          "Suriname",
          "Syrian Arab Republic",
          "Tajikistan",
          "Thailand",
          "Togo",
          "Tunisia",
          "Uganda",
          "Ukraine",
          "United Republic of Tanzania",
          "Uruguay",
          "Uzbekistan",
          "Viet Nam",
          "Yemen",
          "Zambia",
          "Zimbabwe"
         ],
         "name": "",
         "type": "choropleth",
         "z": {
          "bdata": "mpmZmZmZuT+amZmZmZm5PwAAAAAAAABAmpmZmZmZ2T+amZmZmZnJP5qZmZmZmbk/zczMzMzM/D+amZmZmZm5PwAAAAAAAPg/AAAAAAAA4D9mZmZmZmb+PwAAAAAAAPA/MzMzMzMz0z8zMzMzMzPTP5qZmZmZmbk/zczMzMxMNEAAAAAAAADgP5qZmZmZmbk/ZmZmZmZm5j8AAAAAAADwPzMzMzMzM+M/AAAAAAAA4D/NzMzMzMwMQM3MzMzMzAxAzczMzMzM9D8AAAAAAADgP5qZmZmZmdk/mpmZmZmZuT/NzMzMzMwEQJqZmZmZmdk/mpmZmZmZuT+amZmZmZnZP5qZmZmZmbk/zczMzMzMBECamZmZmZnpP5qZmZmZmbk/MzMzMzMz8z/NzMzMzMzsP5qZmZmZmdk/mpmZmZmZuT8zMzMzMzPjP2ZmZmZmZhxAZmZmZmZm5j/NzMzMzMzsP83MzMzMTDtAAAAAAAAA8D+amZmZmZm5PzMzMzMzM9M/ZmZmZmZmDkBmZmZmZmb+P5qZmZmZmdk/mpmZmZmZuT8zMzMzMzP7P5qZmZmZmdk/ZmZmZmZm9j8AAAAAAAAMQGZmZmZmZvY/AAAAAAAAAEAzMzMzMzPTP5qZmZmZmbk/mpmZmZmZuT+amZmZmZnZP5qZmZmZmbk/mpmZmZmZyT+amZmZmZnJPzMzMzMzM9M/ZmZmZmZm/j+amZmZmZm5P5qZmZmZmbk/mpmZmZmZyT/NzMzMzMwSQJqZmZmZmbk/mpmZmZmZyT8zMzMzMzPTP5qZmZmZmdk/mpmZmZmZuT+amZmZmZk3QM3MzMzMzPQ/mpmZmZmZyT8zMzMzMzPTPzMzMzMzM9M/ZmZmZmZmIkCamZmZmZnZP2ZmZmZmZvY/mpmZmZmZyT/NzMzMzMz0P5qZmZmZmck/mpmZmZmZuT+amZmZmZm5P5qZmZmZmbk/MzMzMzMzKUCamZmZmZnpP5qZmZmZmSdAmpmZmZmZuT+amZmZmZm5P5qZmZmZmck/MzMzMzMz0z8AAAAAAAD4P5qZmZmZmbk/mpmZmZmZyT+amZmZmZm5P83MzMzMzOw/mpmZmZmZ6T8AAAAAAADgPzMzMzMzM9M/mpmZmZmZuT8AAAAAAADgPzMzMzMzM+M/mpmZmZmZuT+amZmZmZm5PwAAAAAAAARAmpmZmZmZ2T+amZmZmZm5PwAAAAAAAPg/mpmZmZmZyT+amZmZmZm5P5qZmZmZmbk/mpmZmZmZuT9mZmZmZmY0QAAAAAAAAARAMzMzMzMz0z+amZmZmZm5P5qZmZmZmck/ZmZmZmZm9j+amZmZmZm5P5qZmZmZmck/mpmZmZmZ8T9mZmZmZmYCQJqZmZmZmbk/zczMzMzMFkAAAAAAAADwP2ZmZmZmZhJAMzMzMzMz4z+amZmZmZnJPzMzMzMzM9M/mpmZmZmZuT+amZmZmZkmQGZmZmZmZilA",
          "dtype": "f8"
         }
        }
       ],
       "layout": {
        "coloraxis": {
         "colorbar": {
          "title": {
           "text": "Cases_15_49"
          }
         },
         "colorscale": [
          [
           0,
           "rgb(247,251,255)"
          ],
          [
           0.125,
           "rgb(222,235,247)"
          ],
          [
           0.25,
           "rgb(198,219,239)"
          ],
          [
           0.375,
           "rgb(158,202,225)"
          ],
          [
           0.5,
           "rgb(107,174,214)"
          ],
          [
           0.625,
           "rgb(66,146,198)"
          ],
          [
           0.75,
           "rgb(33,113,181)"
          ],
          [
           0.875,
           "rgb(8,81,156)"
          ],
          [
           1,
           "rgb(8,48,107)"
          ]
         ]
        },
        "geo": {
         "center": {},
         "domain": {
          "x": [
           0,
           1
          ],
          "y": [
           0,
           1
          ]
         },
         "scope": "world"
        },
        "legend": {
         "tracegroupgap": 0
        },
        "template": {
         "data": {
          "bar": [
           {
            "error_x": {
             "color": "#2a3f5f"
            },
            "error_y": {
             "color": "#2a3f5f"
            },
            "marker": {
             "line": {
              "color": "#E5ECF6",
              "width": 0.5
             },
             "pattern": {
              "fillmode": "overlay",
              "size": 10,
              "solidity": 0.2
             }
            },
            "type": "bar"
           }
          ],
          "barpolar": [
           {
            "marker": {
             "line": {
              "color": "#E5ECF6",
              "width": 0.5
             },
             "pattern": {
              "fillmode": "overlay",
              "size": 10,
              "solidity": 0.2
             }
            },
            "type": "barpolar"
           }
          ],
          "carpet": [
           {
            "aaxis": {
             "endlinecolor": "#2a3f5f",
             "gridcolor": "white",
             "linecolor": "white",
             "minorgridcolor": "white",
             "startlinecolor": "#2a3f5f"
            },
            "baxis": {
             "endlinecolor": "#2a3f5f",
             "gridcolor": "white",
             "linecolor": "white",
             "minorgridcolor": "white",
             "startlinecolor": "#2a3f5f"
            },
            "type": "carpet"
           }
          ],
          "choropleth": [
           {
            "colorbar": {
             "outlinewidth": 0,
             "ticks": ""
            },
            "type": "choropleth"
           }
          ],
          "contour": [
           {
            "colorbar": {
             "outlinewidth": 0,
             "ticks": ""
            },
            "colorscale": [
             [
              0,
              "#0d0887"
             ],
             [
              0.1111111111111111,
              "#46039f"
             ],
             [
              0.2222222222222222,
              "#7201a8"
             ],
             [
              0.3333333333333333,
              "#9c179e"
             ],
             [
              0.4444444444444444,
              "#bd3786"
             ],
             [
              0.5555555555555556,
              "#d8576b"
             ],
             [
              0.6666666666666666,
              "#ed7953"
             ],
             [
              0.7777777777777778,
              "#fb9f3a"
             ],
             [
              0.8888888888888888,
              "#fdca26"
             ],
             [
              1,
              "#f0f921"
             ]
            ],
            "type": "contour"
           }
          ],
          "contourcarpet": [
           {
            "colorbar": {
             "outlinewidth": 0,
             "ticks": ""
            },
            "type": "contourcarpet"
           }
          ],
          "heatmap": [
           {
            "colorbar": {
             "outlinewidth": 0,
             "ticks": ""
            },
            "colorscale": [
             [
              0,
              "#0d0887"
             ],
             [
              0.1111111111111111,
              "#46039f"
             ],
             [
              0.2222222222222222,
              "#7201a8"
             ],
             [
              0.3333333333333333,
              "#9c179e"
             ],
             [
              0.4444444444444444,
              "#bd3786"
             ],
             [
              0.5555555555555556,
              "#d8576b"
             ],
             [
              0.6666666666666666,
              "#ed7953"
             ],
             [
              0.7777777777777778,
              "#fb9f3a"
             ],
             [
              0.8888888888888888,
              "#fdca26"
             ],
             [
              1,
              "#f0f921"
             ]
            ],
            "type": "heatmap"
           }
          ],
          "histogram": [
           {
            "marker": {
             "pattern": {
              "fillmode": "overlay",
              "size": 10,
              "solidity": 0.2
             }
            },
            "type": "histogram"
           }
          ],
          "histogram2d": [
           {
            "colorbar": {
             "outlinewidth": 0,
             "ticks": ""
            },
            "colorscale": [
             [
              0,
              "#0d0887"
             ],
             [
              0.1111111111111111,
              "#46039f"
             ],
             [
              0.2222222222222222,
              "#7201a8"
             ],
             [
              0.3333333333333333,
              "#9c179e"
             ],
             [
              0.4444444444444444,
              "#bd3786"
             ],
             [
              0.5555555555555556,
              "#d8576b"
             ],
             [
              0.6666666666666666,
              "#ed7953"
             ],
             [
              0.7777777777777778,
              "#fb9f3a"
             ],
             [
              0.8888888888888888,
              "#fdca26"
             ],
             [
              1,
              "#f0f921"
             ]
            ],
            "type": "histogram2d"
           }
          ],
          "histogram2dcontour": [
           {
            "colorbar": {
             "outlinewidth": 0,
             "ticks": ""
            },
            "colorscale": [
             [
              0,
              "#0d0887"
             ],
             [
              0.1111111111111111,
              "#46039f"
             ],
             [
              0.2222222222222222,
              "#7201a8"
             ],
             [
              0.3333333333333333,
              "#9c179e"
             ],
             [
              0.4444444444444444,
              "#bd3786"
             ],
             [
              0.5555555555555556,
              "#d8576b"
             ],
             [
              0.6666666666666666,
              "#ed7953"
             ],
             [
              0.7777777777777778,
              "#fb9f3a"
             ],
             [
              0.8888888888888888,
              "#fdca26"
             ],
             [
              1,
              "#f0f921"
             ]
            ],
            "type": "histogram2dcontour"
           }
          ],
          "mesh3d": [
           {
            "colorbar": {
             "outlinewidth": 0,
             "ticks": ""
            },
            "type": "mesh3d"
           }
          ],
          "parcoords": [
           {
            "line": {
             "colorbar": {
              "outlinewidth": 0,
              "ticks": ""
             }
            },
            "type": "parcoords"
           }
          ],
          "pie": [
           {
            "automargin": true,
            "type": "pie"
           }
          ],
          "scatter": [
           {
            "fillpattern": {
             "fillmode": "overlay",
             "size": 10,
             "solidity": 0.2
            },
            "type": "scatter"
           }
          ],
          "scatter3d": [
           {
            "line": {
             "colorbar": {
              "outlinewidth": 0,
              "ticks": ""
             }
            },
            "marker": {
             "colorbar": {
              "outlinewidth": 0,
              "ticks": ""
             }
            },
            "type": "scatter3d"
           }
          ],
          "scattercarpet": [
           {
            "marker": {
             "colorbar": {
              "outlinewidth": 0,
              "ticks": ""
             }
            },
            "type": "scattercarpet"
           }
          ],
          "scattergeo": [
           {
            "marker": {
             "colorbar": {
              "outlinewidth": 0,
              "ticks": ""
             }
            },
            "type": "scattergeo"
           }
          ],
          "scattergl": [
           {
            "marker": {
             "colorbar": {
              "outlinewidth": 0,
              "ticks": ""
             }
            },
            "type": "scattergl"
           }
          ],
          "scattermap": [
           {
            "marker": {
             "colorbar": {
              "outlinewidth": 0,
              "ticks": ""
             }
            },
            "type": "scattermap"
           }
          ],
          "scattermapbox": [
           {
            "marker": {
             "colorbar": {
              "outlinewidth": 0,
              "ticks": ""
             }
            },
            "type": "scattermapbox"
           }
          ],
          "scatterpolar": [
           {
            "marker": {
             "colorbar": {
              "outlinewidth": 0,
              "ticks": ""
             }
            },
            "type": "scatterpolar"
           }
          ],
          "scatterpolargl": [
           {
            "marker": {
             "colorbar": {
              "outlinewidth": 0,
              "ticks": ""
             }
            },
            "type": "scatterpolargl"
           }
          ],
          "scatterternary": [
           {
            "marker": {
             "colorbar": {
              "outlinewidth": 0,
              "ticks": ""
             }
            },
            "type": "scatterternary"
           }
          ],
          "surface": [
           {
            "colorbar": {
             "outlinewidth": 0,
             "ticks": ""
            },
            "colorscale": [
             [
              0,
              "#0d0887"
             ],
             [
              0.1111111111111111,
              "#46039f"
             ],
             [
              0.2222222222222222,
              "#7201a8"
             ],
             [
              0.3333333333333333,
              "#9c179e"
             ],
             [
              0.4444444444444444,
              "#bd3786"
             ],
             [
              0.5555555555555556,
              "#d8576b"
             ],
             [
              0.6666666666666666,
              "#ed7953"
             ],
             [
              0.7777777777777778,
              "#fb9f3a"
             ],
             [
              0.8888888888888888,
              "#fdca26"
             ],
             [
              1,
              "#f0f921"
             ]
            ],
            "type": "surface"
           }
          ],
          "table": [
           {
            "cells": {
             "fill": {
              "color": "#EBF0F8"
             },
             "line": {
              "color": "white"
             }
            },
            "header": {
             "fill": {
              "color": "#C8D4E3"
             },
             "line": {
              "color": "white"
             }
            },
            "type": "table"
           }
          ]
         },
         "layout": {
          "annotationdefaults": {
           "arrowcolor": "#2a3f5f",
           "arrowhead": 0,
           "arrowwidth": 1
          },
          "autotypenumbers": "strict",
          "coloraxis": {
           "colorbar": {
            "outlinewidth": 0,
            "ticks": ""
           }
          },
          "colorscale": {
           "diverging": [
            [
             0,
             "#8e0152"
            ],
            [
             0.1,
             "#c51b7d"
            ],
            [
             0.2,
             "#de77ae"
            ],
            [
             0.3,
             "#f1b6da"
            ],
            [
             0.4,
             "#fde0ef"
            ],
            [
             0.5,
             "#f7f7f7"
            ],
            [
             0.6,
             "#e6f5d0"
            ],
            [
             0.7,
             "#b8e186"
            ],
            [
             0.8,
             "#7fbc41"
            ],
            [
             0.9,
             "#4d9221"
            ],
            [
             1,
             "#276419"
            ]
           ],
           "sequential": [
            [
             0,
             "#0d0887"
            ],
            [
             0.1111111111111111,
             "#46039f"
            ],
            [
             0.2222222222222222,
             "#7201a8"
            ],
            [
             0.3333333333333333,
             "#9c179e"
            ],
            [
             0.4444444444444444,
             "#bd3786"
            ],
            [
             0.5555555555555556,
             "#d8576b"
            ],
            [
             0.6666666666666666,
             "#ed7953"
            ],
            [
             0.7777777777777778,
             "#fb9f3a"
            ],
            [
             0.8888888888888888,
             "#fdca26"
            ],
            [
             1,
             "#f0f921"
            ]
           ],
           "sequentialminus": [
            [
             0,
             "#0d0887"
            ],
            [
             0.1111111111111111,
             "#46039f"
            ],
            [
             0.2222222222222222,
             "#7201a8"
            ],
            [
             0.3333333333333333,
             "#9c179e"
            ],
            [
             0.4444444444444444,
             "#bd3786"
            ],
            [
             0.5555555555555556,
             "#d8576b"
            ],
            [
             0.6666666666666666,
             "#ed7953"
            ],
            [
             0.7777777777777778,
             "#fb9f3a"
            ],
            [
             0.8888888888888888,
             "#fdca26"
            ],
            [
             1,
             "#f0f921"
            ]
           ]
          },
          "colorway": [
           "#636efa",
           "#EF553B",
           "#00cc96",
           "#ab63fa",
           "#FFA15A",
           "#19d3f3",
           "#FF6692",
           "#B6E880",
           "#FF97FF",
           "#FECB52"
          ],
          "font": {
           "color": "#2a3f5f"
          },
          "geo": {
           "bgcolor": "white",
           "lakecolor": "white",
           "landcolor": "#E5ECF6",
           "showlakes": true,
           "showland": true,
           "subunitcolor": "white"
          },
          "hoverlabel": {
           "align": "left"
          },
          "hovermode": "closest",
          "mapbox": {
           "style": "light"
          },
          "paper_bgcolor": "white",
          "plot_bgcolor": "#E5ECF6",
          "polar": {
           "angularaxis": {
            "gridcolor": "white",
            "linecolor": "white",
            "ticks": ""
           },
           "bgcolor": "#E5ECF6",
           "radialaxis": {
            "gridcolor": "white",
            "linecolor": "white",
            "ticks": ""
           }
          },
          "scene": {
           "xaxis": {
            "backgroundcolor": "#E5ECF6",
            "gridcolor": "white",
            "gridwidth": 2,
            "linecolor": "white",
            "showbackground": true,
            "ticks": "",
            "zerolinecolor": "white"
           },
           "yaxis": {
            "backgroundcolor": "#E5ECF6",
            "gridcolor": "white",
            "gridwidth": 2,
            "linecolor": "white",
            "showbackground": true,
            "ticks": "",
            "zerolinecolor": "white"
           },
           "zaxis": {
            "backgroundcolor": "#E5ECF6",
            "gridcolor": "white",
            "gridwidth": 2,
            "linecolor": "white",
            "showbackground": true,
            "ticks": "",
            "zerolinecolor": "white"
           }
          },
          "shapedefaults": {
           "line": {
            "color": "#2a3f5f"
           }
          },
          "ternary": {
           "aaxis": {
            "gridcolor": "white",
            "linecolor": "white",
            "ticks": ""
           },
           "baxis": {
            "gridcolor": "white",
            "linecolor": "white",
            "ticks": ""
           },
           "bgcolor": "#E5ECF6",
           "caxis": {
            "gridcolor": "white",
            "linecolor": "white",
            "ticks": ""
           }
          },
          "title": {
           "x": 0.05
          },
          "xaxis": {
           "automargin": true,
           "gridcolor": "white",
           "linecolor": "white",
           "ticks": "",
           "title": {
            "standoff": 15
           },
           "zerolinecolor": "white",
           "zerolinewidth": 2
          },
          "yaxis": {
           "automargin": true,
           "gridcolor": "white",
           "linecolor": "white",
           "ticks": "",
           "title": {
            "standoff": 15
           },
           "zerolinecolor": "white",
           "zerolinewidth": 2
          }
         }
        },
        "title": {
         "text": "Casi (15-49) per Paese (2018)"
        }
       }
      },
      "image/png": "[encoded data removed]"
     },
     "metadata": {},
     "output_type": "display_data"
    }
   ],
   "source": [
    "\n",
    "# Uniamo i dati dell'anno scorso per paese per mostrare più metriche al passaggio del mouse\n",
    "merged_last = hiv_living_last[['Country','Count']].rename(columns={'Count':'Living'}).merge(\n",
    "    hiv_deaths_last[['Country','Count']].rename(columns={'Count':'Deaths'}),\n",
    "    on='Country', how='outer').merge(\n",
    "    hiv_cases_last[['Country','Count']].rename(columns={'Count':'Cases_15_49'}),\n",
    "    on='Country', how='outer')\n",
    "\n",
    "# Calcolo rapporto deaths/living per passaggio mouse\n",
    "merged_last['Death_Ratio'] = merged_last['Deaths'] / merged_last['Living'] * 100\n",
    "\n",
    "# Mappa: Persone con HIV\n",
    "fig_living = px.choropleth(merged_last.dropna(subset=['Living']),\n",
    "                           locations='Country', locationmode='country names',\n",
    "                           color='Living', hover_name='Country',\n",
    "                           hover_data=['Cases_15_49','Deaths','Death_Ratio'],\n",
    "                           color_continuous_scale=px.colors.sequential.Purples,\n",
    "                           title=f'Persone che vivono con HIV per Paese ({last_year})', scope='world')\n",
    "fig_living.show()\n",
    "\n",
    "# Mappa: Decessi\n",
    "fig_deaths = px.choropleth(merged_last.dropna(subset=['Deaths']),\n",
    "                           locations='Country', locationmode='country names',\n",
    "                           color='Deaths', hover_name='Country',\n",
    "                           hover_data=['Living','Cases_15_49','Death_Ratio'],\n",
    "                           color_continuous_scale=px.colors.sequential.Reds,\n",
    "                           title=f'Decessi per HIV per Paese ({last_year})', scope='world')\n",
    "fig_deaths.show()\n",
    "\n",
    "# Mappa: Casi 15-49\n",
    "fig_cases = px.choropleth(merged_last.dropna(subset=['Cases_15_49']),\n",
    "                          locations='Country', locationmode='country names',\n",
    "                          color='Cases_15_49', hover_name='Country',\n",
    "                          hover_data=['Living','Deaths','Death_Ratio'],\n",
    "                          color_continuous_scale=px.colors.sequential.Blues,\n",
    "                          title=f'Casi (15-49) per Paese ({last_year})', scope='world')\n",
    "fig_cases.show()\n"
   ]
  },
  {
   "cell_type": "markdown",
   "id": "55fa3d6e",
   "metadata": {},
   "source": [
    "## 5) Top 15 e confronti\n",
    "\n",
    "Classifica dei 15 paesi con più persone che vivono con l'HIV"
   ]
  },
  {
   "cell_type": "code",
   "execution_count": 51,
   "id": "3637465f",
   "metadata": {},
   "outputs": [
    {
     "data": {
      "image/png": "[encoded data removed]",
      "text/plain": [
       "<Figure size 1400x800 with 1 Axes>"
      ]
     },
     "metadata": {},
     "output_type": "display_data"
    }
   ],
   "source": [
    "if not hiv_living_last.empty:\n",
    "    # Selezioniamo le prime 15 righe con il valore più alto nella colonna 'Count', ignorando i NaN\n",
    "    top_living = hiv_living_last.dropna(subset=['Count']).nlargest(15, 'Count')\n",
    "    \n",
    "    plt.figure(figsize=(14, 8))\n",
    "    ax = sns.barplot(data=top_living,\n",
    "                    y='Country',\n",
    "                    x='Count',\n",
    "                    hue='WHO Region',\n",
    "                    palette=colors_region,\n",
    "                    dodge=False)\n",
    "    \n",
    "    for p in ax.patches:\n",
    "        width = p.get_width()\n",
    "        plt.text(width + 100000, p.get_y() + p.get_height()/2, \n",
    "                f\"{width/1e6:.1f}M\", va='center', fontsize=10)\n",
    "    \n",
    "    plt.title(f'Top 15 Paesi per Persone con HIV ({last_year})', pad=20)\n",
    "    plt.xlabel('Numero di Persone con HIV')\n",
    "    plt.ylabel('Paese')\n",
    "    plt.legend(bbox_to_anchor=(1.05, 1), loc='upper left', title='Regione')\n",
    "    plt.tight_layout()\n",
    "    plt.show()\n",
    "\n"
   ]
  },
  {
   "cell_type": "markdown",
   "id": "6c6cef30",
   "metadata": {},
   "source": [
    "### 5.2 Confronto dei continenti\n",
    "Confronto dei continenti/regioni geografiche, persone che vivono con l'HIV"
   ]
  },
  {
   "cell_type": "code",
   "execution_count": 54,
   "id": "d55b7956-a90c-48f5-b38f-7681c2c3b747",
   "metadata": {
    "scrolled": true
   },
   "outputs": [
    {
     "data": {
      "image/png": "[encoded data removed]",
      "text/plain": [
       "<Figure size 1200x800 with 1 Axes>"
      ]
     },
     "metadata": {},
     "output_type": "display_data"
    }
   ],
   "source": [
    "if not hiv_living_last.empty:\n",
    "    # Raggruppiamo i dati per Regione e calcoliamo somma, media e mediana dei valori Count\n",
    "    # Poi ordiniamo le regioni in base alla somma decrescente\n",
    "    region_living = hiv_living_last.groupby('WHO Region')['Count'].agg(['sum', 'mean', 'median'])\\\n",
    "                                  .sort_values('sum', ascending=False)\n",
    "    \n",
    "    plt.figure(figsize=(12, 8))\n",
    "    ax = sns.barplot(data=region_living.reset_index(),\n",
    "                    x='WHO Region',\n",
    "                    y='sum',\n",
    "                    hue='WHO Region',\n",
    "                    palette=colors_region,\n",
    "                    legend=False)\n",
    "    \n",
    "    plt.title(f'Persone con HIV per Continente/Regione ({last_year})', pad=20)\n",
    "    plt.ylabel('Totale Persone con HIV')\n",
    "    plt.xlabel('Continente/Regione')\n",
    "    plt.xticks(rotation=45)\n",
    "    \n",
    "    for i, value in enumerate(region_living['sum']):\n",
    "        plt.text(i, value + 1e5, f\"{value/1e6:.1f}M\", ha='center', va='bottom')\n",
    "    \n",
    "    plt.tight_layout()\n",
    "    plt.show()"
   ]
  },
  {
   "cell_type": "markdown",
   "id": "49e3ff3f",
   "metadata": {},
   "source": [
    "## 6) Top 15 e confronti\n",
    "\n",
    "Confronto del numero totale di decessi per paese"
   ]
  },
  {
   "cell_type": "code",
   "execution_count": 53,
   "id": "b9df2057",
   "metadata": {
    "scrolled": true
   },
   "outputs": [
    {
     "data": {
      "image/png": "[encoded data removed]",
      "text/plain": [
       "<Figure size 1400x800 with 1 Axes>"
      ]
     },
     "metadata": {},
     "output_type": "display_data"
    }
   ],
   "source": [
    "if not hiv_deaths_last.empty:\n",
    "    # Selezioniamo le prime 15 righe con il valore più alto nella colonna 'Count', ignorando i NaN\n",
    "    top_deaths = hiv_deaths_last.dropna(subset=['Count']).nlargest(15, 'Count')\n",
    "    \n",
    "    plt.figure(figsize=(14, 8))\n",
    "    ax = sns.barplot(data=top_deaths,\n",
    "                    y='Country',\n",
    "                    x='Count',\n",
    "                    hue='WHO Region',\n",
    "                    palette=colors_region,\n",
    "                    dodge=False)\n",
    "    \n",
    "    for p in ax.patches:\n",
    "        width = p.get_width()\n",
    "        plt.text(width + 100, p.get_y() + p.get_height()/2, \n",
    "                f\"{width:,}\", va='center', fontsize=10)\n",
    "    \n",
    "    plt.title(f'Top 15 Paesi per Decessi HIV ({last_year})', pad=20)\n",
    "    plt.xlabel('Numero di Decessi')\n",
    "    plt.ylabel('Paese')\n",
    "    plt.legend(bbox_to_anchor=(1.05, 1), loc='upper left', title='Regione')\n",
    "    plt.tight_layout()\n",
    "    plt.show()"
   ]
  },
  {
   "cell_type": "markdown",
   "id": "f6fbb61f-286d-4dc7-8b4c-ef6d53f7974b",
   "metadata": {},
   "source": [
    "### 6.2 Confronto dei continenti\n",
    "Confronto dei continenti/regioni geografiche, decessi"
   ]
  },
  {
   "cell_type": "code",
   "execution_count": 55,
   "id": "2904fce7-7307-4223-9ec2-590cd514ab8a",
   "metadata": {},
   "outputs": [
    {
     "data": {
      "image/png": "[encoded data removed]",
      "text/plain": [
       "<Figure size 1200x800 with 1 Axes>"
      ]
     },
     "metadata": {},
     "output_type": "display_data"
    }
   ],
   "source": [
    "if not hiv_deaths_last.empty:\n",
    "    # Raggruppiamo i dati per Regione OMS e calcoliamo somma, media e mediana dei valori Count\n",
    "    # Poi ordiniamo le regioni in base alla somma decrescente\n",
    "    region_deaths = hiv_deaths_last.groupby('WHO Region')['Count'].agg(['sum', 'mean', 'median'])\\\n",
    "                                  .sort_values('sum', ascending=False)\n",
    "    \n",
    "    plt.figure(figsize=(12, 8))\n",
    "    ax = sns.barplot(data=region_deaths.reset_index(),\n",
    "                    x='WHO Region',\n",
    "                    y='sum',\n",
    "                    hue='WHO Region',\n",
    "                    palette=colors_region,\n",
    "                    legend=False)\n",
    "    \n",
    "    plt.title(f'Decessi HIV per Continente\\Regione ({last_year})', pad=20)\n",
    "    plt.ylabel('Totale Decessi')\n",
    "    plt.xlabel('Continente\\Regione')\n",
    "    plt.xticks(rotation=45)\n",
    "    \n",
    "    for i, value in enumerate(region_deaths['sum']):\n",
    "        plt.text(i, value + 100, f\"{value:,}\", ha='center', va='bottom')\n",
    "    \n",
    "    plt.tight_layout()\n",
    "    plt.show()\n"
   ]
  },
  {
   "cell_type": "markdown",
   "id": "6ccd2c1f",
   "metadata": {},
   "source": [
    "## 7) Analisi temporale per paesi selezionati\n",
    "La matrice di correlazione mostra quanto sono legate tra loro le variabili (persone con HIV e decessi). Più il colore è vicino alla linea rossa, più la correlazione è forte."
   ]
  },
  {
   "cell_type": "code",
   "execution_count": 40,
   "id": "bb217b05",
   "metadata": {},
   "outputs": [
    {
     "data": {
      "image/png": "[encoded data removed]",
      "text/plain": [
       "<Figure size 1000x600 with 1 Axes>"
      ]
     },
     "metadata": {},
     "output_type": "display_data"
    }
   ],
   "source": [
    "if not hiv_living_last.empty and not hiv_deaths_last.empty:\n",
    "    # Unione dati per analisi correlazione\n",
    "    correlation_data = pd.merge(\n",
    "        hiv_living_last[['Country', 'Count']].rename(columns={'Count': 'Living'}),\n",
    "        hiv_deaths_last[['Country', 'Count']].rename(columns={'Count': 'Deaths'}),\n",
    "        on='Country', how='inner'\n",
    "    ).dropna()\n",
    "    \n",
    "    if len(correlation_data) > 2:\n",
    "        plt.figure(figsize=(10, 6))\n",
    "        \n",
    "        # Plot usando solo i valori numerici\n",
    "        sns.regplot(data=correlation_data,\n",
    "                    x='Living',\n",
    "                    y='Deaths',\n",
    "                    scatter_kws={'alpha':0.5},\n",
    "                    line_kws={'color':'red'})\n",
    "        \n",
    "        # Calcolo correlazione escludendo colonne non numeriche\n",
    "        corr = correlation_data[['Living', 'Deaths']].corr().iloc[0,1]\n",
    "        \n",
    "        plt.text(0.05, 0.95, f'Correlazione: {corr:.2f}', \n",
    "                 transform=plt.gca().transAxes, ha='left', va='top',\n",
    "                 bbox=dict(facecolor='white', alpha=0.8))\n",
    "        \n",
    "        plt.title(f'Relazione tra Persone con HIV e Decessi ({last_year})', pad=20)\n",
    "        plt.xlabel('Numero di Persone con HIV')\n",
    "        plt.ylabel('Numero di Decessi')\n",
    "        plt.grid(True)\n",
    "        plt.tight_layout()\n",
    "        plt.show()\n",
    "    else:\n",
    "        print(\"Dati insufficienti per l'analisi di correlazione\")\n",
    "        \n"
   ]
  },
  {
   "cell_type": "markdown",
   "id": "1852e2b5",
   "metadata": {},
   "source": [
    "### Grafico 8\n",
    "Il grafico mostra in dettaglio i trend storici per un gruppo di paesi selezionati (Afghanistan, Algeria, Angola, Argentina, Armenia). "
   ]
  },
  {
   "cell_type": "code",
   "execution_count": 56,
   "id": "a02c449b-0abc-478a-af5a-82001de2fe2a",
   "metadata": {
    "scrolled": true
   },
   "outputs": [
    {
     "data": {
      "image/png": "[encoded data removed]",
      "text/plain": [
       "<Figure size 1200x600 with 1 Axes>"
      ]
     },
     "metadata": {},
     "output_type": "display_data"
    },
    {
     "name": "stdout",
     "output_type": "stream",
     "text": [
      "Nessun paese con dati completi per tutti gli anni - Andamento Storico Decessi HIV per Paesi Selezionati\n"
     ]
    }
   ],
   "source": [
    "def plot_temporal_analysis(df, title, color):\n",
    "    \"\"\"Funzione per tracciare l'analisi temporale\"\"\"\n",
    "    if not df.empty:\n",
    "        # Seleziona paesi con dati più completi\n",
    "        countries_complete = df.groupby('Country')['Count'].count()\n",
    "        selected_countries = countries_complete[countries_complete == len(available_years)].index[:5]\n",
    "        \n",
    "        if len(selected_countries) > 0:\n",
    "            plt.figure(figsize=(12, 6))\n",
    "            \n",
    "            for country in selected_countries:\n",
    "                country_data = df[df['Country'] == country]\n",
    "                plt.plot(country_data['Year'], country_data['Count'], 'o-', label=country)\n",
    "            \n",
    "            plt.title(title, pad=20)\n",
    "            plt.ylabel('Conteggio')\n",
    "            plt.xlabel('Anno')\n",
    "            plt.legend(bbox_to_anchor=(1.05, 1), loc='upper left')\n",
    "            plt.grid(True)\n",
    "            plt.xticks(available_years)\n",
    "            plt.tight_layout()\n",
    "            plt.show()\n",
    "        else:\n",
    "            print(f\"Nessun paese con dati completi per tutti gli anni - {title}\")\n",
    "\n",
    "plot_temporal_analysis(hiv_living, 'Andamento Storico Persone con HIV per Paesi Selezionati', 'purple')\n",
    "plot_temporal_analysis(hiv_deaths, 'Andamento Storico Decessi HIV per Paesi Selezionati', 'red')"
   ]
  },
  {
   "cell_type": "markdown",
   "id": "56b3aa25",
   "metadata": {},
   "source": [
    "# Conclusioni\n",
    "Dall'analisi emergono alcuni punti chiave:\n",
    "\n",
    "- L'Africa è il continente con più malati e decessi a causa dell'HIV.\n",
    "- Il numero di persone che vivono con l'HIV rimane alto, ma mostra segni di stabilizzazione.\n",
    "- I decessi hanno una tendenza al calo, grazie a migliori trattamenti e metodi di prevenzione.\n",
    "- I casi nella fascia 15–49 anni sono molti, indicando che la prevenzione è cruciale in questa fascia di età.\n",
    "\n",
    "Questi risultati sottolineano l'importanza di mantenere alta l'attenzione sulla prevenzione e sulle cure."
   ]
  },
  {
   "cell_type": "markdown",
   "id": "69d13256-2904-4b0d-b511-69e8bcdef364",
   "metadata": {},
   "source": [
    "# GRAZIE PER L'ATTENZIONE"
   ]
  }
 ],
 "metadata": {
  "kernelspec": {
   "display_name": "Python 3 (ipykernel)",
   "language": "python",
   "name": "python3"
  },
  "language_info": {
   "codemirror_mode": {
    "name": "ipython",
    "version": 3
   },
   "file_extension": ".py",
   "mimetype": "text/x-python",
   "name": "python",
   "nbconvert_exporter": "python",
   "pygments_lexer": "ipython3",
   "version": "3.13.2"
  }
 },
 "nbformat": 4,
 "nbformat_minor": 5
}
